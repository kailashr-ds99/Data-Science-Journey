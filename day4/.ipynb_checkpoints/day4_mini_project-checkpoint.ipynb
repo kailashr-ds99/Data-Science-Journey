{
 "cells": [
  {
   "cell_type": "code",
   "execution_count": 1,
   "id": "83470209-552c-48d7-b6ad-7a80f77b10dd",
   "metadata": {},
   "outputs": [
    {
     "name": "stdout",
     "output_type": "stream",
     "text": [
      "Hello\n"
     ]
    }
   ],
   "source": [
    "print(\"Hello\")"
   ]
  },
  {
   "cell_type": "code",
   "execution_count": 2,
   "id": "91cbbd66-c459-4d8a-8c8c-d6d49adf9071",
   "metadata": {},
   "outputs": [
    {
     "name": "stdout",
     "output_type": "stream",
     "text": [
      "=== Mini Project: Calculator ===\n",
      "\n",
      "Choose operation:\n",
      "1. Addition\n",
      "2. Subtraction\n",
      "3. Multiplication\n",
      "4. Division\n",
      "5. Exit\n"
     ]
    },
    {
     "name": "stdin",
     "output_type": "stream",
     "text": [
      "Enter choice (1-5):  1\n",
      "Enter first number:  5\n",
      "Enter second number:  2\n"
     ]
    },
    {
     "name": "stdout",
     "output_type": "stream",
     "text": [
      "Result: 7.0\n",
      "\n",
      "Choose operation:\n",
      "1. Addition\n",
      "2. Subtraction\n",
      "3. Multiplication\n",
      "4. Division\n",
      "5. Exit\n"
     ]
    },
    {
     "name": "stdin",
     "output_type": "stream",
     "text": [
      "Enter choice (1-5):  2\n",
      "Enter first number:  10\n",
      "Enter second number:  7\n"
     ]
    },
    {
     "name": "stdout",
     "output_type": "stream",
     "text": [
      "Result: 3.0\n",
      "\n",
      "Choose operation:\n",
      "1. Addition\n",
      "2. Subtraction\n",
      "3. Multiplication\n",
      "4. Division\n",
      "5. Exit\n"
     ]
    },
    {
     "name": "stdin",
     "output_type": "stream",
     "text": [
      "Enter choice (1-5):  5\n"
     ]
    },
    {
     "name": "stdout",
     "output_type": "stream",
     "text": [
      "Exiting... Thank you!\n"
     ]
    }
   ],
   "source": [
    "##### print(\"=== Mini Project: Calculator ===\")\n",
    "\n",
    "while True:\n",
    "    print(\"\\nChoose operation:\")\n",
    "    print(\"1. Addition\")\n",
    "    print(\"2. Subtraction\")\n",
    "    print(\"3. Multiplication\")\n",
    "    print(\"4. Division\")\n",
    "    print(\"5. Exit\")\n",
    "    \n",
    "    choice = input(\"Enter choice (1-5): \")\n",
    "    \n",
    "    if choice == '5':\n",
    "        print(\"Exiting... Thank you!\")\n",
    "        break\n",
    "    \n",
    "    num1 = float(input(\"Enter first number: \"))\n",
    "    num2 = float(input(\"Enter second number: \"))\n",
    "    \n",
    "    if choice == '1':\n",
    "        print(\"Result:\", num1 + num2)\n",
    "    elif choice == '2':\n",
    "        print(\"Result:\", num1 - num2)\n",
    "    elif choice == '3':\n",
    "        print(\"Result:\", num1 * num2)\n",
    "    elif choice == '4':\n",
    "        if num2 == 0:\n",
    "            print(\"Error! Division by zero.\")\n",
    "        else:\n",
    "            print(\"Result:\", num1 / num2)\n",
    "    else:\n",
    "        print(\"Invalid choice. Try again!\")\n"
   ]
  },
  {
   "cell_type": "code",
   "execution_count": 3,
   "id": "e82ce2e6-6b18-46cd-b781-a8f02d9b11be",
   "metadata": {},
   "outputs": [
    {
     "name": "stdout",
     "output_type": "stream",
     "text": [
      "Hello\n"
     ]
    }
   ],
   "source": [
    "print(\"Hello\")"
   ]
  },
  {
   "cell_type": "code",
   "execution_count": 6,
   "id": "b61293b9-988d-4d0e-8c61-111a29237e00",
   "metadata": {},
   "outputs": [
    {
     "name": "stdout",
     "output_type": "stream",
     "text": [
      "=== MINI PROJECT: CALCULATOR ===\n",
      "\n",
      "Choose operation:\n",
      "1. Addition\n",
      "2. Subtraction\n",
      "3. Multiplication\n",
      "4. Division\n",
      "5. Exit\n"
     ]
    },
    {
     "name": "stdin",
     "output_type": "stream",
     "text": [
      "Enter choice (1:5):  1\n",
      "Enter 1st Number:  5\n",
      "Enter 2nd Number:  0\n"
     ]
    },
    {
     "name": "stdout",
     "output_type": "stream",
     "text": [
      "Result: 5.0\n",
      "\n",
      "Choose operation:\n",
      "1. Addition\n",
      "2. Subtraction\n",
      "3. Multiplication\n",
      "4. Division\n",
      "5. Exit\n"
     ]
    },
    {
     "name": "stdin",
     "output_type": "stream",
     "text": [
      "Enter choice (1:5):  4\n",
      "Enter 1st Number:  2\n",
      "Enter 2nd Number:  0\n"
     ]
    },
    {
     "name": "stdout",
     "output_type": "stream",
     "text": [
      "Error! Division by Zero.\n",
      "\n",
      "Choose operation:\n",
      "1. Addition\n",
      "2. Subtraction\n",
      "3. Multiplication\n",
      "4. Division\n",
      "5. Exit\n"
     ]
    },
    {
     "name": "stdin",
     "output_type": "stream",
     "text": [
      "Enter choice (1:5):  5\n"
     ]
    },
    {
     "name": "stdout",
     "output_type": "stream",
     "text": [
      "Exiting...Thank you!\n"
     ]
    }
   ],
   "source": [
    "print(\"=== MINI PROJECT: CALCULATOR ===\")\n",
    "\n",
    "while True:\n",
    "    print(\"\\nChoose operation:\")\n",
    "    print(\"1. Addition\")\n",
    "    print(\"2. Subtraction\")\n",
    "    print(\"3. Multiplication\")\n",
    "    print(\"4. Division\")\n",
    "    print(\"5. Exit\")\n",
    "\n",
    "    choice = input(\"Enter choice (1:5): \")\n",
    "\n",
    "    if choice == '5':\n",
    "        print(\"Exiting...Thank you!\")\n",
    "        break\n",
    "\n",
    "    num1 = float(input(\"Enter 1st Number: \"))\n",
    "    num2 = float(input(\"Enter 2nd Number: \"))\n",
    "\n",
    "    if choice == '1':\n",
    "        print(\"Result:\", num1 + num2)\n",
    "    elif choice == '2':\n",
    "        print(\"Result:\", num1 - num2)\n",
    "    elif choice == '3':\n",
    "        print(\"Result:\", num1 * num2)\n",
    "    elif choice == '4':\n",
    "        if num2 == 0:\n",
    "            print(\"Error! Division by Zero.\")\n",
    "        else:\n",
    "            print(\"Result:\", num1 / num2)\n",
    "    else:\n",
    "        print(\"Invalid Input. Try Again!\")"
   ]
  },
  {
   "cell_type": "code",
   "execution_count": null,
   "id": "852e64d6-4423-4234-a18e-88bd25a1a8b9",
   "metadata": {},
   "outputs": [],
   "source": []
  }
 ],
 "metadata": {
  "kernelspec": {
   "display_name": "Python 3 (ipykernel)",
   "language": "python",
   "name": "python3"
  },
  "language_info": {
   "codemirror_mode": {
    "name": "ipython",
    "version": 3
   },
   "file_extension": ".py",
   "mimetype": "text/x-python",
   "name": "python",
   "nbconvert_exporter": "python",
   "pygments_lexer": "ipython3",
   "version": "3.13.5"
  }
 },
 "nbformat": 4,
 "nbformat_minor": 5
}
