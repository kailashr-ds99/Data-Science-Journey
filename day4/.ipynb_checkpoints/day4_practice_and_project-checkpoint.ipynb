{
 "cells": [
  {
   "cell_type": "code",
   "execution_count": 7,
   "id": "1b2a468d-3fd9-4929-9244-7e45fec62abe",
   "metadata": {},
   "outputs": [
    {
     "name": "stdin",
     "output_type": "stream",
     "text": [
      "Enter a Number =  83738\n"
     ]
    },
    {
     "name": "stdout",
     "output_type": "stream",
     "text": [
      "This is an Even Number\n"
     ]
    }
   ],
   "source": [
    "#WAP to check if a number entered by the user is odd or even.\n",
    "\n",
    "num = int(input(\"Enter a Number = \"))    # prompt for user to enter a number\n",
    "\n",
    "rem = num % 2                            # Check odd or even using modulus operator\n",
    "if(rem == 0):\n",
    "    print(\"This is an Even Number\")\n",
    "else:\n",
    "    print(\"This is an Odd Number\")\n",
    "    "
   ]
  },
  {
   "cell_type": "code",
   "execution_count": 10,
   "id": "9b0f4928-189b-460f-b956-a42b1639c189",
   "metadata": {},
   "outputs": [
    {
     "name": "stdin",
     "output_type": "stream",
     "text": [
      "Enter a Number =  11\n"
     ]
    },
    {
     "name": "stdout",
     "output_type": "stream",
     "text": [
      "This is an Odd Number\n"
     ]
    }
   ],
   "source": [
    "num = int(input(\"Enter a Number = \"))    # prompt for user to enter a number\n",
    "if(num % 2 == 0):                        # Check odd or even using modulus operator\n",
    "    print(\"This is an Even Number\")\n",
    "else:\n",
    "    print(\"This is an Odd Number\")"
   ]
  },
  {
   "cell_type": "code",
   "execution_count": 18,
   "id": "0c486f8c-9bd7-4bda-90c3-1cad045919ac",
   "metadata": {},
   "outputs": [
    {
     "name": "stdin",
     "output_type": "stream",
     "text": [
      "Enter your 1st Number  1\n",
      "Enter your 2nd Number  2\n",
      "Enter your 3rd Number  4\n"
     ]
    },
    {
     "name": "stdout",
     "output_type": "stream",
     "text": [
      "The Greatest Number is 4.0\n"
     ]
    }
   ],
   "source": [
    "#WAP to find the greatest of 3 numbers entered by the user.\n",
    "\n",
    "num1 = float(input(\"Enter your 1st Number \"))\n",
    "num2 = float(input(\"Enter your 2nd Number \"))\n",
    "num3 = float(input(\"Enter your 3rd Number \"))\n",
    "\n",
    "if (num1 >= num2 and num1 >= num3):\n",
    "    print(\"The Greatest Number is\", num1)\n",
    "elif(num1 <= num2 and num2 >= num3):\n",
    "    print(\"The Greatest Number is\", num2)\n",
    "else:\n",
    "    print(\"The Greatest Number is\", num3)"
   ]
  },
  {
   "cell_type": "code",
   "execution_count": 21,
   "id": "20dfc108-5323-4f54-b131-161d1340e2bd",
   "metadata": {},
   "outputs": [
    {
     "name": "stdin",
     "output_type": "stream",
     "text": [
      "Enter your 1st Number  9\n",
      "Enter your 2nd Number  34\n",
      "Enter your 3rd Number  53\n",
      "Enter your 4th Number  26\n"
     ]
    },
    {
     "name": "stdout",
     "output_type": "stream",
     "text": [
      "The Largest Number is 53.0\n"
     ]
    }
   ],
   "source": [
    "#(Home-Work)WAP to find the greatest of 3 numbers entered by the user.\n",
    "\n",
    "a = float(input(\"Enter your 1st Number \"))\n",
    "b = float(input(\"Enter your 2nd Number \"))\n",
    "c = float(input(\"Enter your 3rd Number \"))\n",
    "d = float(input(\"Enter your 4th Number \"))\n",
    "if (a >= b and a >= c and a >= d):\n",
    "    print(\"The Largest Number is\", a )\n",
    "elif (b >= c and b >= d):\n",
    "    print(\"The Largest Number is\", b )\n",
    "elif (c >= d):\n",
    "    print(\"The Largest Number is\", c )\n",
    "else:\n",
    "    print(\"The Largest Number is\", d )"
   ]
  },
  {
   "cell_type": "code",
   "execution_count": 21,
   "id": "4db7ae1b-ae11-4161-b181-30c2cdcc8ff6",
   "metadata": {},
   "outputs": [
    {
     "name": "stdin",
     "output_type": "stream",
     "text": [
      "Enter your 1st Number  9\n",
      "Enter your 2nd Number  34\n",
      "Enter your 3rd Number  53\n",
      "Enter your 4th Number  26\n"
     ]
    },
    {
     "name": "stdout",
     "output_type": "stream",
     "text": [
      "The Largest Number is 53.0\n"
     ]
    }
   ],
   "source": [
    "#(Home-Work)WAP to find the greatest of 3 numbers entered by the user.\n",
    "\n",
    "a = float(input(\"Enter your 1st Number \"))\n",
    "b = float(input(\"Enter your 2nd Number \"))\n",
    "c = float(input(\"Enter your 3rd Number \"))\n",
    "d = float(input(\"Enter your 4th Number \"))\n",
    "if (a >= b and a >= c and a >= d):\n",
    "    print(\"The Largest Number is\", a )\n",
    "elif (b >= c and b >= d):\n",
    "    print(\"The Largest Number is\", b )\n",
    "elif (c >= d):\n",
    "    print(\"The Largest Number is\", c )\n",
    "else:\n",
    "    print(\"The Largest Number is\", d )"
   ]
  },
  {
   "cell_type": "code",
   "execution_count": 23,
   "id": "c1991ac9-fb56-4216-9c8c-638bc7ecaf77",
   "metadata": {},
   "outputs": [
    {
     "name": "stdin",
     "output_type": "stream",
     "text": [
      "Enter first number:  2\n",
      "Enter second number:  4\n",
      "Enter third number:  6\n"
     ]
    },
    {
     "name": "stdout",
     "output_type": "stream",
     "text": [
      "The greatest number is: 6.0\n"
     ]
    }
   ],
   "source": [
    "# Input three numbers from the user\n",
    "num1 = float(input(\"Enter first number: \"))\n",
    "num2 = float(input(\"Enter second number: \"))\n",
    "num3 = float(input(\"Enter third number: \"))\n",
    "\n",
    "# Check which is greatest\n",
    "if num1 >= num2 and num1 >= num3:\n",
    "    greatest = num1\n",
    "elif num2 >= num1 and num2 >= num3:\n",
    "    greatest = num2\n",
    "else:\n",
    "    greatest = num3\n",
    "\n",
    "print(\"The greatest number is:\", greatest)\n",
    "\n"
   ]
  },
  {
   "cell_type": "code",
   "execution_count": 27,
   "id": "c9c18063-2017-4c86-a90d-24aaff6ffdf3",
   "metadata": {},
   "outputs": [
    {
     "name": "stdin",
     "output_type": "stream",
     "text": [
      "Enter a Number  49\n"
     ]
    },
    {
     "name": "stdout",
     "output_type": "stream",
     "text": [
      "The number 49 is a multiple of 7\n"
     ]
    }
   ],
   "source": [
    "#WAP to check if a number is a multiple of 7 or not.\n",
    "num = int(input(\"Enter a Number \"))\n",
    "if(num % 7 == 0):\n",
    "          print(\"The number\", num, \"is a multiple of 7\")\n",
    "else:\n",
    "          print(\"The number\", num, \"is not a multiple of 7\")\n"
   ]
  },
  {
   "cell_type": "code",
   "execution_count": 31,
   "id": "303a47e6-b2bd-4f9b-b87b-90635a8e6fd1",
   "metadata": {},
   "outputs": [
    {
     "name": "stdin",
     "output_type": "stream",
     "text": [
      "Enter number 56\n"
     ]
    },
    {
     "name": "stdout",
     "output_type": "stream",
     "text": [
      "Is a Multiple of 7\n"
     ]
    }
   ],
   "source": [
    "# pro version of above code\n",
    "num = int(input(\"Enter number\" ))\n",
    "print(\"Is a Multiple of 7\" if num % 7 == 0 else \"Is not a Multiple of 7\")"
   ]
  },
  {
   "cell_type": "code",
   "execution_count": 35,
   "id": "067fd5df-2e64-4dcb-87ff-3c31ea7ef7ea",
   "metadata": {},
   "outputs": [
    {
     "name": "stdout",
     "output_type": "stream",
     "text": [
      "[94.4, 86.5, 68.3, 95.7]\n",
      "<class 'list'>\n",
      "4\n",
      "94.4\n",
      "86.5\n"
     ]
    }
   ],
   "source": [
    "#Lecture 3: Lists and Tuples\n",
    "\n",
    "marks = [94.4, 86.5, 68.3, 95.7]\n",
    "print(marks)\n",
    "print(type(marks))\n",
    "print(len(marks))\n",
    "print(marks[0])      #In Python, you must use square brackets to access items in a list.\n",
    "print(marks[1])"
   ]
  },
  {
   "cell_type": "code",
   "execution_count": 36,
   "id": "b0b27af9-19a2-4421-b2c7-7499575da466",
   "metadata": {},
   "outputs": [
    {
     "name": "stdout",
     "output_type": "stream",
     "text": [
      "['Karan', 95, 'Delhi']\n"
     ]
    }
   ],
   "source": [
    "\n",
    "\n",
    "student = [\"Karan\", 95, \"Delhi\"]\n",
    "print(student)"
   ]
  },
  {
   "cell_type": "code",
   "execution_count": 58,
   "id": "b57397d6-ca36-41b3-b2ce-cdc0c476dcd4",
   "metadata": {},
   "outputs": [
    {
     "name": "stdout",
     "output_type": "stream",
     "text": [
      "[94.4, 86.5, 68.3, 95.7, 99.9]\n",
      "[68.3, 86.5, 94.4, 95.7, 99.9]\n",
      "[99.9, 95.7, 94.4, 86.5, 68.3]\n",
      "[99.9, 5, 95.7, 94.4, 86.5, 68.3]\n",
      "[99.9, 95.7, 94.4, 86.5, 68.3]\n",
      "[95.7, 94.4, 86.5, 68.3]\n"
     ]
    }
   ],
   "source": [
    "# List Methods\n",
    "#list.append adds the elements at the last of the list\n",
    "#list.sort sorts in ascending order\n",
    "#list.sort(reverse = True)      sorts the list in descending order\n",
    "#list.reverse() reverses the list\n",
    "#list.insert(idx, el)     inserts elements at mentioned index\n",
    "#list.removed(1)        removes firt occurence of element \n",
    "#list.pop(idx)     removes element at mentioned index\n",
    "\n",
    "marks = [94.4, 86.5, 68.3, 95.7]\n",
    "marks.append(99.9)\n",
    "print(marks)\n",
    "marks.sort()\n",
    "print(marks)\n",
    "\n",
    "marks.sort(reverse=True)\n",
    "print(marks)\n",
    "\n",
    "marks.insert(1, 5)\n",
    "print(marks)\n",
    "\n",
    "marks.remove(5)\n",
    "print(marks)\n",
    "\n",
    "marks.pop(0)\n",
    "print(marks)"
   ]
  },
  {
   "cell_type": "code",
   "execution_count": 64,
   "id": "5b588a76-6439-4c0c-9877-d8351c4c5be0",
   "metadata": {},
   "outputs": [
    {
     "name": "stdout",
     "output_type": "stream",
     "text": [
      "<class 'tuple'>\n",
      "1\n"
     ]
    }
   ],
   "source": [
    "#Tuples in python, tuples just like strings are immutable(cannot change edit or delete the elements\n",
    "\n",
    "tup = (1, 3, 5, 11, 7)\n",
    "print(type(tup))\n",
    "print(tup[0])"
   ]
  },
  {
   "cell_type": "code",
   "execution_count": 65,
   "id": "bcc90665-3d68-4dc7-b91b-bbc3d6b8ac48",
   "metadata": {},
   "outputs": [
    {
     "name": "stdin",
     "output_type": "stream",
     "text": [
      "Enter 1st Movie:  Shutter Island\n",
      "Enter 2nd Movie:  Pushpa\n",
      "Enter 3rd Movie:  War\n"
     ]
    },
    {
     "name": "stdout",
     "output_type": "stream",
     "text": [
      "['Shutter Island', 'Pushpa', 'War']\n"
     ]
    }
   ],
   "source": [
    "#WAP to ask the suer to enter names of thier 3 favorite movies & Store them in a list\n",
    "\n",
    "# Create an empty list to store movie names\n",
    "\n",
    "favorite_movies = []\n",
    "mov1 = input(\"Enter 1st Movie: \")\n",
    "mov2 = input(\"Enter 2nd Movie: \")\n",
    "mov3 = input(\"Enter 3rd Movie: \")\n",
    "\n",
    "favorite_movies.append(mov1)\n",
    "favorite_movies.append(mov2)\n",
    "favorite_movies.append(mov3)\n",
    "print(favorite_movies)\n",
    "\n"
   ]
  },
  {
   "cell_type": "code",
   "execution_count": 66,
   "id": "05e7e4d3-5ff2-43cf-8fbe-439bc5d8e3a3",
   "metadata": {},
   "outputs": [
    {
     "name": "stdin",
     "output_type": "stream",
     "text": [
      "Enter favorite movie #1:  Munja\n",
      "Enter favorite movie #2:  Bhool Bhulaiya\n",
      "Enter favorite movie #3:  Stree 2\n"
     ]
    },
    {
     "name": "stdout",
     "output_type": "stream",
     "text": [
      "Your favorite movies are: ['Munja', 'Bhool Bhulaiya', 'Stree 2']\n"
     ]
    }
   ],
   "source": [
    "\n",
    "# Create an empty list to store movie names\n",
    "favorite_movies = []\n",
    "\n",
    "# Ask the user to enter 3 favorite movies\n",
    "for i in range(3):\n",
    "    movie = input(f\"Enter favorite movie #{i+1}: \")\n",
    "    favorite_movies.append(movie)\n",
    "\n",
    "# Print the list of favorite movies\n",
    "print(\"Your favorite movies are:\", favorite_movies)"
   ]
  },
  {
   "cell_type": "code",
   "execution_count": 69,
   "id": "cd0f0595-3d49-4515-ae2e-b2f01dacf473",
   "metadata": {},
   "outputs": [
    {
     "name": "stdout",
     "output_type": "stream",
     "text": [
      "Not Palindrome\n"
     ]
    }
   ],
   "source": [
    "#WAP to check if a list contains a palindrome of elements.(Hint: use copy() method)\n",
    "\n",
    "list1 = [1, 2, 3]\n",
    "list2 = [1, 2, 1]\n",
    "\n",
    "copy_list1= list1.copy()\n",
    "copy_list1.reverse()\n",
    "\n",
    "if(copy_list1 == list1):\n",
    "    print(\"Palindrome\")\n",
    "else:\n",
    "    print(\"Not Palindrome\")\n",
    "\n",
    "\n",
    "\n"
   ]
  },
  {
   "cell_type": "code",
   "execution_count": 71,
   "id": "a7952983-a7fb-45e0-91b5-3e788fa8c71f",
   "metadata": {},
   "outputs": [
    {
     "name": "stdout",
     "output_type": "stream",
     "text": [
      "4\n"
     ]
    }
   ],
   "source": [
    "#WAP to count the number of students with the \"A\" grade int he following tuple.\n",
    "\n",
    "# Tuple of grades\n",
    "grades = (\"A\", \"B\", \"A\", \"C\", \"A\", \"D\", \"B\", \"A\")\n",
    "print(grades.count(\"A\"))"
   ]
  },
  {
   "cell_type": "code",
   "execution_count": 72,
   "id": "c50ab9a2-557a-4881-90b6-e4937d461f00",
   "metadata": {},
   "outputs": [
    {
     "name": "stdout",
     "output_type": "stream",
     "text": [
      "Not Palindrome\n",
      "Palindrome\n",
      "Palindrome\n"
     ]
    }
   ],
   "source": [
    "def is_palindrome(lst):\n",
    "    return \"Palindrome\" if lst == lst[::-1] else \"Not Palindrome\"\n",
    "\n",
    "print(is_palindrome([1, 2, 3]))     # Not Palindrome\n",
    "print(is_palindrome([1, 2, 1]))     # Palindrome\n",
    "print(is_palindrome(['n', 'i', 't', 'i', 'n']))  # Palindrome\n"
   ]
  },
  {
   "cell_type": "code",
   "execution_count": 73,
   "id": "0e27f60d-8ca4-48d3-b006-e67809a45f75",
   "metadata": {},
   "outputs": [
    {
     "name": "stdout",
     "output_type": "stream",
     "text": [
      "Palindrome\n",
      "Not Palindrome\n"
     ]
    }
   ],
   "source": [
    "def is_palindrome_string(s):\n",
    "    return \"Palindrome\" if s == s[::-1] else \"Not Palindrome\"\n",
    "\n",
    "print(is_palindrome_string(\"madam\"))   # Palindrome\n",
    "print(is_palindrome_string(\"hello\"))   # Not Palindrome\n"
   ]
  },
  {
   "cell_type": "code",
   "execution_count": null,
   "id": "7379705b-9763-4cad-ae70-bd055731a6da",
   "metadata": {},
   "outputs": [],
   "source": [
    "def is_palindrome_string(s):\n",
    "    return \"Palindrome\" if s == s[::-1] else \"Not Palindrome\"\n",
    "\n",
    "print(is_palindrome_string(\"madam\"))   # Palindrome\n",
    "print(is_palindrome_string(\"hello\"))   # Not Palindrome\n"
   ]
  },
  {
   "cell_type": "code",
   "execution_count": null,
   "id": "2aa0150c-8be0-4ece-bb3d-430a535d55a8",
   "metadata": {},
   "outputs": [],
   "source": [
    "print(\"=== Mini Project: Calculator ===\")\n",
    "\n",
    "while True:\n",
    "    print(\"\\nChoose operation:\")\n",
    "    print(\"1. Addition\")\n",
    "    print(\"2. Subtraction\")\n",
    "    print(\"3. Multiplication\")\n",
    "    print(\"4. Division\")\n",
    "    print(\"5. Exit\")\n",
    "    \n",
    "    choice = input(\"Enter choice (1-5): \")\n",
    "    \n",
    "    if choice == '5':\n",
    "        print(\"Exiting... Thank you!\")\n",
    "        break\n",
    "    \n",
    "    num1 = float(input(\"Enter first number: \"))\n",
    "    num2 = float(input(\"Enter second number: \"))\n",
    "    \n",
    "    if choice == '1':\n",
    "        print(\"Result:\", num1 + num2)\n",
    "    elif choice == '2':\n",
    "        print(\"Result:\", num1 - num2)\n",
    "    elif choice == '3':\n",
    "        print(\"Result:\", num1 * num2)\n",
    "    elif choice == '4':\n",
    "        if num2 == 0:\n",
    "            print(\"Error! Division by zero.\")\n",
    "        else:\n",
    "            print(\"Result:\", num1 / num2)\n",
    "    else:\n",
    "        print(\"Invalid choice. Try again!\")\n",
    "        "
   ]
  },
  {
   "cell_type": "code",
   "execution_count": null,
   "id": "fd7768d1-8a9b-424a-b9cb-ccb09b4fbad1",
   "metadata": {},
   "outputs": [],
   "source": [
    "print(\"Hello\")"
   ]
  },
  {
   "cell_type": "code",
   "execution_count": null,
   "id": "59ef8a41-7ca9-41ef-b11f-ea32dd4916f4",
   "metadata": {},
   "outputs": [],
   "source": [
    "print(\"Hello\")"
   ]
  },
  {
   "cell_type": "code",
   "execution_count": null,
   "id": "290df089-5cc8-4567-be48-b58bb0623316",
   "metadata": {},
   "outputs": [],
   "source": []
  }
 ],
 "metadata": {
  "kernelspec": {
   "display_name": "Python 3 (ipykernel)",
   "language": "python",
   "name": "python3"
  },
  "language_info": {
   "codemirror_mode": {
    "name": "ipython",
    "version": 3
   },
   "file_extension": ".py",
   "mimetype": "text/x-python",
   "name": "python",
   "nbconvert_exporter": "python",
   "pygments_lexer": "ipython3",
   "version": "3.13.5"
  }
 },
 "nbformat": 4,
 "nbformat_minor": 5
}
