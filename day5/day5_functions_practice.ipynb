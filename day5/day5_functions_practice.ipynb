{
 "cells": [
  {
   "cell_type": "code",
   "execution_count": 1,
   "id": "e7c3f6de-7bd9-4534-acaa-47407517e1f2",
   "metadata": {},
   "outputs": [],
   "source": [
    "#Day5 Chap: Dictionary & Set\n",
    "\n",
    "#Dictionary in Python:  Dictionaries are used to stoe data values in key.value pairs\n",
    "#They are unordered, mutable(changeable) & don't allow duplicate keys.\n",
    "#use curly brackets to store a dictionary"
   ]
  },
  {
   "cell_type": "code",
   "execution_count": 5,
   "id": "2746a0b1-6735-4997-a638-a84715a3dadb",
   "metadata": {},
   "outputs": [
    {
     "name": "stdout",
     "output_type": "stream",
     "text": [
      "{'key': 'value', 'name': 'Kailash', 'Learning': 'coding'}\n"
     ]
    }
   ],
   "source": [
    "info = {\n",
    "    \"key\" : \"value\",\n",
    "    \"name\" : \"Kailash\",\n",
    "    \"Learning\" : \"coding\"\n",
    "} \n",
    "print(info)"
   ]
  },
  {
   "cell_type": "code",
   "execution_count": 6,
   "id": "f1dbdb24-77ee-40f8-8f56-3168f7aed8e7",
   "metadata": {},
   "outputs": [
    {
     "name": "stdout",
     "output_type": "stream",
     "text": [
      "{'Key': 'value', 'name': 'Kailash', 'learning': 'coding', 'age': 35, 'is_adult': True, 'marks': 94.4}\n"
     ]
    }
   ],
   "source": [
    "info = {\n",
    "    \"Key\" : \"value\",\n",
    "    \"name\" : \"Kailash\",\n",
    "    \"learning\" : \"coding\",\n",
    "    \"age\" : 35,\n",
    "    \"is_adult\" : True,\n",
    "    \"marks\" : 94.4\n",
    "}\n",
    "print(info)"
   ]
  },
  {
   "cell_type": "code",
   "execution_count": 17,
   "id": "ae416e2e-2925-4854-b7d8-290f2611c383",
   "metadata": {},
   "outputs": [
    {
     "name": "stdout",
     "output_type": "stream",
     "text": [
      "<class 'dict'>\n",
      "Kailash\n",
      "['Python', 'C', 'JAVA']\n",
      "35\n",
      "True\n"
     ]
    }
   ],
   "source": [
    "info = {\n",
    "    \"name\" : \"Kailash\",\n",
    "    \"subjects\" : [\"Python\", \"C\", \"JAVA\"],\n",
    "    \"topics\" : (\"dict\",\"set\"),\n",
    "    \"age\" : 35,\n",
    "    \"is_adult\" : True,\n",
    "    \"marks\" : 94.4\n",
    "}\n",
    "print(type(info))\n",
    "print(info[\"name\"])\n",
    "print(info[\"subjects\"])\n",
    "print(info[\"age\"])\n",
    "print(info[\"is_adult\"])"
   ]
  },
  {
   "cell_type": "code",
   "execution_count": 27,
   "id": "c5bd562c-fd49-4a72-922e-237376f68e85",
   "metadata": {},
   "outputs": [
    {
     "name": "stdout",
     "output_type": "stream",
     "text": [
      "{}\n",
      "{'name': 'GPT College'}\n"
     ]
    }
   ],
   "source": [
    "#null dictionary\n",
    "\n",
    "null_dict = {}\n",
    "print(null_dict)\n",
    "null_dict[\"name\"] = \"GPT College\"\n",
    "print(null_dict)\n"
   ]
  },
  {
   "cell_type": "code",
   "execution_count": 33,
   "id": "683d00a9-5cd3-4e53-9589-66ff80740266",
   "metadata": {},
   "outputs": [
    {
     "name": "stdout",
     "output_type": "stream",
     "text": [
      "{'name': 'Kailash Raut', 'subject': {'Physics': 97, 'Chemistry': 94, 'Math': 99}}\n",
      "{'Physics': 97, 'Chemistry': 94, 'Math': 99}\n",
      "94\n",
      "Kailash Raut\n"
     ]
    }
   ],
   "source": [
    "student = {\n",
    "    \"name\" : \"Kailash Raut\",\n",
    "    \"subject\" : {\n",
    "        \"Physics\" : 97,\n",
    "        \"Chemistry\" : 94,        #Nested Dictionary\n",
    "        \"Math\" : 99\n",
    "    }\n",
    "    \n",
    "}\n",
    "print(student)\n",
    "print(student[\"subject\"])\n",
    "print(student[\"subject\"][\"Chemistry\"])\n",
    "print(student[\"name\"])"
   ]
  },
  {
   "cell_type": "code",
   "execution_count": 34,
   "id": "7bc6f9e6-cbd1-43f2-8565-8a756bba4d88",
   "metadata": {},
   "outputs": [],
   "source": [
    "#Dictionary Methods:\n",
    "#1. myDict.keys()    # returns all keys {# Nested key will not be returned}\n",
    "#2. myDict.values()  # returns all values\n",
    "#3. myDict.items()   #returns all (key, val) pairs as tuples\n",
    "#4. myDict,get(\"key\") # returns the key according to the value\n",
    "#5. myDict.update(newDict)  # inserts the specified items to the dictionary"
   ]
  },
  {
   "cell_type": "code",
   "execution_count": 40,
   "id": "84c0ac0f-7b63-4650-9134-136488ec4a6b",
   "metadata": {},
   "outputs": [
    {
     "name": "stdout",
     "output_type": "stream",
     "text": [
      "dict_keys(['name', 'subject'])\n",
      "['name', 'subject']\n",
      "2\n",
      "2\n"
     ]
    }
   ],
   "source": [
    "student = {\n",
    "    \"name\" : \"Kailash Raut\",\n",
    "    \"subject\" : {\n",
    "        \"Physics\" : 97,\n",
    "        \"Chemistry\" : 94,        #Nested Dictionary\n",
    "        \"Math\" : 99\n",
    "    }\n",
    "}\n",
    "print(student.keys())   # {Nested key will not be returned}\n",
    "print(list(student.keys()))\n",
    "print(len(student)) #Total numbe of key values\n",
    "print(len(student.keys()))"
   ]
  },
  {
   "cell_type": "code",
   "execution_count": 47,
   "id": "5dd2b44d-d078-4d96-b459-32bb2644b31c",
   "metadata": {},
   "outputs": [
    {
     "name": "stdout",
     "output_type": "stream",
     "text": [
      "dict_values(['Kailash Raut', {'Physics': 97, 'Chemistry': 94, 'Math': 99}])\n",
      "dict_items([('name', 'Kailash Raut'), ('subject', {'Physics': 97, 'Chemistry': 94, 'Math': 99})])\n",
      "[('name', 'Kailash Raut'), ('subject', {'Physics': 97, 'Chemistry': 94, 'Math': 99})]\n",
      "('name', 'Kailash Raut')\n"
     ]
    }
   ],
   "source": [
    "student = {\n",
    "    \"name\" : \"Kailash Raut\",\n",
    "    \"subject\" : {\n",
    "        \"Physics\" : 97,\n",
    "        \"Chemistry\" : 94,        #Nested Dictionary\n",
    "        \"Math\" : 99\n",
    "    }\n",
    "}\n",
    "pairs = list(student.items())\n",
    "\n",
    "print(student.values())\n",
    "print(student.items())\n",
    "print(list(student.items()))\n",
    "print(pairs[0])\n"
   ]
  },
  {
   "cell_type": "code",
   "execution_count": 55,
   "id": "6d1b7dc7-d761-4386-9b3f-837f827df74e",
   "metadata": {},
   "outputs": [
    {
     "name": "stdout",
     "output_type": "stream",
     "text": [
      "{'name': 'Kailash Raut', 'subject': {'Physics': 97, 'Chemistry': 94, 'Math': 99}, 'City': 'Delhi', 'age': '35'}\n"
     ]
    }
   ],
   "source": [
    "student = {\n",
    "    \"name\" : \"Kailash Raut\",\n",
    "    \"subject\" : {\n",
    "        \"Physics\" : 97,\n",
    "        \"Chemistry\" : 94,        #Nested Dictionary\n",
    "        \"Math\" : 99\n",
    "    }\n",
    "}\n",
    "student.update({\"City\" : \"Delhi\", \"age\" : \"35\"})\n",
    "print(student)"
   ]
  },
  {
   "cell_type": "code",
   "execution_count": 61,
   "id": "02d16989-0483-439a-9e73-ce05c664fda8",
   "metadata": {},
   "outputs": [
    {
     "name": "stdout",
     "output_type": "stream",
     "text": [
      "{1, 2, 3, 4, 'World', 'Hello'}\n",
      "<class 'set'>\n",
      "6\n"
     ]
    }
   ],
   "source": [
    "# SETS in Python\n",
    "#Set is the collecetion of unordered items, Each element in the set must be unique & immutable.\n",
    "# no duplicate will be counted, cannot save List and Dictionary in set as both are mutable, sets will have only immutable.\n",
    "\n",
    "collection = {1, 2, 3, 4, \"Hello\", \"World\",\"Hello\"}\n",
    "\n",
    "print(collection)\n",
    "print(type(collection))\n",
    "print(len(collection))"
   ]
  },
  {
   "cell_type": "code",
   "execution_count": 71,
   "id": "dfbcec19-fe14-4a3a-a9f2-6cdb46e66d3d",
   "metadata": {},
   "outputs": [
    {
     "name": "stdout",
     "output_type": "stream",
     "text": [
      "<class 'set'>\n",
      "{1, 2, 'CHAT GPT'}\n"
     ]
    }
   ],
   "source": [
    "#Set Methods (sets are mutable but the elements in the set are immutable)\n",
    "#1. set.add(el)  #adds an element\n",
    "#2. set.remove(el)  # Removes and element\n",
    "#3. set.clear() # empities the set\n",
    "#4. set.pop() #removes random value \n",
    "#5. set.union(set2)  # com bines both set values and returns new\n",
    "#6. set.intersection(set2)  # combines common values and returns new\n",
    "\n",
    "collection = set()\n",
    "collection.add(1)\n",
    "collection.add(2)\n",
    "collection.add(1)\n",
    "collection.add(\"CHAT GPT\")\n",
    "\n",
    "\n",
    "print(type(collection))\n",
    "print(collection)\n",
    "\n"
   ]
  },
  {
   "cell_type": "code",
   "execution_count": 84,
   "id": "0a7f48ff-d019-44d1-a7ec-138d59549ac5",
   "metadata": {},
   "outputs": [
    {
     "name": "stdout",
     "output_type": "stream",
     "text": [
      "World\n",
      "Hello\n",
      "CHAT GPT\n"
     ]
    }
   ],
   "source": [
    "collection = {\"Hello\", \"CHAT GPT\", \"World\", \"Python\"}\n",
    "\n",
    "print(collection.pop())\n",
    "print(collection.pop())\n",
    "print(collection.pop())\n",
    "\n"
   ]
  },
  {
   "cell_type": "code",
   "execution_count": 79,
   "id": "5a6bc223-d9d8-43c3-87a2-e94da5b791b8",
   "metadata": {},
   "outputs": [
    {
     "name": "stdout",
     "output_type": "stream",
     "text": [
      "1\n",
      "2\n",
      "3\n",
      "4\n",
      "5\n"
     ]
    }
   ],
   "source": [
    "s = {1, 2, 3, 4, 5}\n",
    "for i in range(len(s)):\n",
    "    print(s.pop())\n"
   ]
  },
  {
   "cell_type": "code",
   "execution_count": 83,
   "id": "591d0596-92cb-4da9-8d45-0696476681cd",
   "metadata": {},
   "outputs": [
    {
     "name": "stdout",
     "output_type": "stream",
     "text": [
      "1\n",
      "2\n",
      "3\n",
      "4\n",
      "5\n"
     ]
    }
   ],
   "source": [
    "s = {1, 2, 3, 4, 5}\n",
    "for i in range(len(s)):\n",
    "    print(s.pop())\n",
    "    \n",
    "\n"
   ]
  },
  {
   "cell_type": "code",
   "execution_count": 86,
   "id": "05042134-6ae3-4d22-86d9-f9cd56402a33",
   "metadata": {},
   "outputs": [
    {
     "name": "stdout",
     "output_type": "stream",
     "text": [
      "{1, 2, 3, 4}\n",
      "{2, 3}\n"
     ]
    }
   ],
   "source": [
    "set1 = {1, 2, 3,}\n",
    "set2 = {2, 3, 4,}\n",
    "\n",
    "print(set1.union(set2))\n",
    "print(set1.intersection(set2))"
   ]
  },
  {
   "cell_type": "code",
   "execution_count": 89,
   "id": "10d8a72a-d534-4721-a000-c1c2d3a0aa0b",
   "metadata": {},
   "outputs": [
    {
     "name": "stdout",
     "output_type": "stream",
     "text": [
      "{'Table': ['a piece of furniture', 'List of fact & figures'], 'cat': 'a small animal'}\n"
     ]
    }
   ],
   "source": [
    "# Practice: Store following word meaning in a python dictionary:\n",
    "# table: \"a piece of furniture\", \"list of fact & figures\"\n",
    "# cat: \"a small animal\"\n",
    "\n",
    "dictionary = {\n",
    "    \"Table\" : [\"a piece of furniture\", \"List of fact & figures\"],\n",
    "    \"cat\" : \"a small animal\"\n",
    "}\n",
    "\n",
    "print(dictionary)"
   ]
  },
  {
   "cell_type": "code",
   "execution_count": 92,
   "id": "859ae3fb-b852-4757-9a4e-f2bd5f49417d",
   "metadata": {},
   "outputs": [
    {
     "name": "stdout",
     "output_type": "stream",
     "text": [
      "{'JavaScript', 'JAVA', 'C++', 'Python', 'C'}\n",
      "5\n"
     ]
    }
   ],
   "source": [
    "#You are give a list of subjects for students. assume one classroom is required for 1 subject. how many classrooms are needed by all students.\n",
    "# \"Python\" , \"JAVA\", \"C++\", \"Python\", \"JavaScript\", \"JAVA\", \"Python\" , \"JAVA\", \"C++\", \"C\"\n",
    "\n",
    "\n",
    "subjects = {\n",
    "    \"Python\" , \"JAVA\", \"C++\", \"Python\", \"JavaScript\", \"JAVA\", \"Python\" , \"JAVA\", \"C++\", \"C\" \n",
    "}\n",
    "print(subjects)\n",
    "print(len(subjects))"
   ]
  },
  {
   "cell_type": "code",
   "execution_count": 93,
   "id": "ce13b297-229b-4c51-911e-568fc1e9d737",
   "metadata": {},
   "outputs": [
    {
     "name": "stdin",
     "output_type": "stream",
     "text": [
      "Enter Physics Marks 98\n",
      "Enter Chemistry Marks 96\n",
      "Enter Math Marks 100\n"
     ]
    },
    {
     "name": "stdout",
     "output_type": "stream",
     "text": [
      "{'Physics': 98, 'Chemistry': 96, 'Math': 100}\n"
     ]
    }
   ],
   "source": [
    "#WAP to enter marks of 3 subjects from the user & store them in a dictionary. Start with an empty dictionary & add one by one. \n",
    "#Use subject name as Key and marks as value.\n",
    "\n",
    "marks = {\n",
    "    \n",
    "}\n",
    "\n",
    "user = int(input(\"Enter Physics Marks\"))\n",
    "marks.update({\"Physics\" : user})\n",
    "\n",
    "user = int(input(\"Enter Chemistry Marks\"))\n",
    "marks.update({\"Chemistry\" : user})\n",
    "\n",
    "user = int(input(\"Enter Math Marks\"))\n",
    "marks.update({\"Math\" : user})\n",
    "\n",
    "print(marks)"
   ]
  },
  {
   "cell_type": "code",
   "execution_count": 98,
   "id": "b2541b34-8db8-4b86-843f-6768150b63d2",
   "metadata": {},
   "outputs": [
    {
     "name": "stdout",
     "output_type": "stream",
     "text": [
      "{8, 9, '9.0', 9.25}\n",
      "{('float', 9.0), ('int', 9)}\n"
     ]
    }
   ],
   "source": [
    "# Figure out a way to store 9 & 9.0 as separate values in the set.\n",
    "#(you can take help of built-in data types)\n",
    "\n",
    "values = {9, \"9.0\", 8, 8.0, 9.25}\n",
    "print(values)\n",
    "\n",
    "values = {\n",
    "    (\"float\", 9.0),\n",
    "    (\"int\", 9)\n",
    "}\n",
    "print(values)"
   ]
  },
  {
   "cell_type": "code",
   "execution_count": 99,
   "id": "752d8893-0dc2-46d7-953b-4b1478c084dd",
   "metadata": {},
   "outputs": [
    {
     "name": "stdout",
     "output_type": "stream",
     "text": [
      "{(9.0, <class 'float'>), (9, <class 'int'>)}\n"
     ]
    }
   ],
   "source": [
    "s = set()\n",
    "s.add((9, type(9)))\n",
    "s.add((9.0, type(9.0)))\n",
    "print(s)\n",
    "# Output: {(9, <class 'int'>), (9.0, <class 'float'>)}\n"
   ]
  },
  {
   "cell_type": "code",
   "execution_count": 107,
   "id": "779a4193-0c64-4716-bce3-5d21ce9e69f8",
   "metadata": {},
   "outputs": [
    {
     "name": "stdin",
     "output_type": "stream",
     "text": [
      "Enter New Student's Name: Harshada\n",
      "Enter Students Marks in Math: 70\n",
      "Enter Students Marks in Physics: 80\n",
      "Enter Students Marks in Chemistry: 90\n"
     ]
    },
    {
     "name": "stdout",
     "output_type": "stream",
     "text": [
      "{'Kailash': {'Math': 99, 'Physics': 100, 'Chemistry': 96}, 'Vaidehi': {'Math': 100, 'Physics': 90, 'Chemistry': 99}, 'Ranjana': {'Math': 79, 'Physics': 85, 'Chemistry': 100}, 'Harshada': {'Math': 70, 'Physics': 80, 'Chemistry': 90}}\n",
      "<class 'dict'>\n"
     ]
    }
   ],
   "source": [
    "# MINI Project of the Day by GPT.\n",
    "\n",
    "students = {\n",
    "    \"Kailash\" : {\"Math\": 99, \"Physics\" : 100, \"Chemistry\" : 96},\n",
    "    \"Vaidehi\" : {\"Math\": 100, \"Physics\" : 90, \"Chemistry\" : 99},\n",
    "    \"Ranjana\" : {\"Math\": 79, \"Physics\" : 85, \"Chemistry\" : 100},\n",
    "}\n",
    "# Add Students details Dynamically with code.\n",
    "\n",
    "new_student = input(\"Enter New Student's Name:\" )\n",
    "Math_marks = int(input(\"Enter Students Marks in Math:\" ))\n",
    "Physics_marks = int(input(\"Enter Students Marks in Physics:\" ))\n",
    "Chemistry_marks = int(input(\"Enter Students Marks in Chemistry:\" ))\n",
    "\n",
    "# add new_student to the disctionary\n",
    "students[new_student] = {\n",
    "    \"Math\" : Math_marks,\n",
    "    \"Physics\" : Physics_marks,\n",
    "    \"Chemistry\" : Chemistry_marks\n",
    "}\n",
    "\n",
    "print(students)\n",
    "print(type(students))"
   ]
  },
  {
   "cell_type": "code",
   "execution_count": null,
   "id": "d75dbe64-3a02-413e-9d01-62324167ea9a",
   "metadata": {},
   "outputs": [],
   "source": []
  },
  {
   "cell_type": "code",
   "execution_count": null,
   "id": "8b084b7e-662d-42c2-b4c4-f1f0e21c0295",
   "metadata": {},
   "outputs": [],
   "source": []
  },
  {
   "cell_type": "code",
   "execution_count": null,
   "id": "e18b39fc-f0c6-4f23-9af2-e5c0a8564066",
   "metadata": {},
   "outputs": [],
   "source": []
  },
  {
   "cell_type": "code",
   "execution_count": 110,
   "id": "872d9c44-365d-4845-9cf1-f54073984b54",
   "metadata": {},
   "outputs": [
    {
     "name": "stdin",
     "output_type": "stream",
     "text": [
      "Enter New Student's Name (or 'stop' to quit):  harshada\n",
      "Enter Student's Marks in Math:  90\n",
      "Enter Student's Marks in Physics:  80\n",
      "Enter Student's Marks in Chemistry:  70\n",
      "Enter New Student's Name (or 'stop' to quit):  Vaibhav\n",
      "Enter Student's Marks in Math:  70\n",
      "Enter Student's Marks in Physics:  80\n",
      "Enter Student's Marks in Chemistry:  90\n",
      "Enter New Student's Name (or 'stop' to quit):  stop\n",
      "Enter the student name to view marks:  Kailash\n"
     ]
    },
    {
     "name": "stdout",
     "output_type": "stream",
     "text": [
      "{'Math': 99, 'Physics': 100, 'Chemistry': 96}\n"
     ]
    }
   ],
   "source": [
    "# Existing dictionary\n",
    "students = {\n",
    "    \"Kailash\": {\"Math\": 99, \"Physics\": 100, \"Chemistry\": 96},\n",
    "    \"Vaidehi\": {\"Math\": 100, \"Physics\": 90, \"Chemistry\": 99},\n",
    "    \"Ranjana\": {\"Math\": 79, \"Physics\": 85, \"Chemistry\": 100},\n",
    "}\n",
    "\n",
    "while True:\n",
    "    new_student = input(\"Enter New Student's Name (or 'stop' to quit): \")\n",
    "    if new_student.lower() == \"stop\":\n",
    "        break\n",
    "    Math_marks = int(input(\"Enter Student's Marks in Math: \"))\n",
    "    Physics_marks = int(input(\"Enter Student's Marks in Physics: \"))\n",
    "    Chemistry_marks = int(input(\"Enter Student's Marks in Chemistry: \"))\n",
    "\n",
    "    students[new_student] = {\n",
    "        \"Math\": Math_marks,\n",
    "        \"Physics\": Physics_marks,\n",
    "        \"Chemistry\": Chemistry_marks\n",
    "    }\n",
    "search_name = input(\"Enter the student name to view marks: \")\n",
    "print(students.get(search_name, \"Student not found\"))\n",
    "\n",
    "\n"
   ]
  },
  {
   "cell_type": "code",
   "execution_count": null,
   "id": "6d3e31f5-c59c-4866-80d5-4b78a293d60f",
   "metadata": {},
   "outputs": [],
   "source": []
  }
 ],
 "metadata": {
  "kernelspec": {
   "display_name": "Python 3 (ipykernel)",
   "language": "python",
   "name": "python3"
  },
  "language_info": {
   "codemirror_mode": {
    "name": "ipython",
    "version": 3
   },
   "file_extension": ".py",
   "mimetype": "text/x-python",
   "name": "python",
   "nbconvert_exporter": "python",
   "pygments_lexer": "ipython3",
   "version": "3.13.5"
  }
 },
 "nbformat": 4,
 "nbformat_minor": 5
}
