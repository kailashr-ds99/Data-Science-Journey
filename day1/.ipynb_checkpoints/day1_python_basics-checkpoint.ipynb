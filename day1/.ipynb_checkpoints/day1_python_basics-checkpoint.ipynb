{
 "cells": [
  {
   "cell_type": "markdown",
   "id": "3e6d73b9-bdb2-4330-9f23-25960cbfbdff",
   "metadata": {},
   "source": []
  },
  {
   "cell_type": "code",
   "execution_count": 1,
   "id": "2bd10906-fd24-4bff-9db3-311e8f9ceab8",
   "metadata": {},
   "outputs": [
    {
     "name": "stdout",
     "output_type": "stream",
     "text": [
      "Hello World\n"
     ]
    }
   ],
   "source": [
    "print(\"Hello World\")"
   ]
  },
  {
   "cell_type": "code",
   "execution_count": 3,
   "id": "2cdd91f1-714c-43c5-89cb-13424177578d",
   "metadata": {},
   "outputs": [
    {
     "name": "stdout",
     "output_type": "stream",
     "text": [
      "Welcome to My Data Science Journey\n"
     ]
    }
   ],
   "source": [
    "print(\"Welcome to My Data Science Journey\")"
   ]
  },
  {
   "cell_type": "code",
   "execution_count": 4,
   "id": "6f4530fa-f4b9-40cf-8abd-d307db08e787",
   "metadata": {},
   "outputs": [
    {
     "name": "stdout",
     "output_type": "stream",
     "text": [
      "10 3.5 Kailash True\n",
      "<class 'int'> <class 'float'> <class 'str'> <class 'bool'>\n"
     ]
    }
   ],
   "source": [
    "x = 10\n",
    "y = 3.5\n",
    "name = \"Kailash\"\n",
    "is_active = True\n",
    "print(x, y, name, is_active)\n",
    "print(type(x), type(y), type(name), type(is_active))"
   ]
  },
  {
   "cell_type": "code",
   "execution_count": 5,
   "id": "e75d0aa4-ff80-42b8-9bdc-520559868564",
   "metadata": {},
   "outputs": [
    {
     "name": "stdout",
     "output_type": "stream",
     "text": [
      "8 2 15 125 1.6666666666666667 2 1\n"
     ]
    }
   ],
   "source": [
    "a = 5\n",
    "b = 3\n",
    "print(a + b, a - b, a * b, a ** b, a / b, a % b, a // b)"
   ]
  },
  {
   "cell_type": "code",
   "execution_count": 7,
   "id": "e0fa668a-c66c-43eb-9a1f-8e70051206ea",
   "metadata": {},
   "outputs": [
    {
     "name": "stdout",
     "output_type": "stream",
     "text": [
      "100 <class 'int'>\n",
      "100.0 <class 'float'>\n"
     ]
    }
   ],
   "source": [
    "#convert between types\n",
    "num_str = \"100\"\n",
    "num_int = int(num_str)\n",
    "num_float = float(num_str)\n",
    "\n",
    "\n",
    "print(num_int, type(num_int))\n",
    "print(num_float, type(num_float))"
   ]
  },
  {
   "cell_type": "code",
   "execution_count": 8,
   "id": "7fed7886-a8a1-4121-b9b4-d78e1731b4ab",
   "metadata": {},
   "outputs": [
    {
     "name": "stdout",
     "output_type": "stream",
     "text": [
      "False True False True\n",
      "True\n",
      "True\n"
     ]
    }
   ],
   "source": [
    "#comparison between boolean operators\n",
    "x = 10\n",
    "y = 20\n",
    "\n",
    "print(x > y, x < y, x == y, x != y)\n",
    "print((x < y) and (y > 15))\n",
    "print((x > y) or (y > 15))"
   ]
  },
  {
   "cell_type": "code",
   "execution_count": 20,
   "id": "82d620f9-8f3e-4641-94d7-56bbafbf4437",
   "metadata": {},
   "outputs": [
    {
     "name": "stdin",
     "output_type": "stream",
     "text": [
      "enter first:  10\n",
      "enter second:  20\n"
     ]
    },
    {
     "name": "stdout",
     "output_type": "stream",
     "text": [
      "sum = 30\n"
     ]
    }
   ],
   "source": [
    "first = int(input(\"enter first: \"))\n",
    "second = int(input(\"enter second: \"))\n",
    "\n",
    "print(\"sum =\", first + second)"
   ]
  },
  {
   "cell_type": "code",
   "execution_count": 19,
   "id": "a7623b51-5d50-48d7-8d0a-d2f569221461",
   "metadata": {},
   "outputs": [
    {
     "name": "stdin",
     "output_type": "stream",
     "text": [
      "Enter first:  10\n",
      "Enter second:  20\n"
     ]
    },
    {
     "name": "stdout",
     "output_type": "stream",
     "text": [
      "Sum = 30\n"
     ]
    }
   ],
   "source": [
    "first = int(input(\"Enter first: \"))\n",
    "second = int(input(\"Enter second: \"))\n",
    "\n",
    "print(\"Sum =\", first + second)\n"
   ]
  },
  {
   "cell_type": "code",
   "execution_count": 23,
   "id": "20c4aaea-bd6f-4ac9-ba3a-fbe24df26da6",
   "metadata": {},
   "outputs": [
    {
     "name": "stdin",
     "output_type": "stream",
     "text": [
      "Enter first number to add:  15\n",
      "Second number to add:  12\n"
     ]
    },
    {
     "name": "stdout",
     "output_type": "stream",
     "text": [
      "sum = 27\n"
     ]
    }
   ],
   "source": [
    "first = int(input(\"Enter first number to add: \"))\n",
    "second = int(input(\"Second number to add: \"))\n",
    "\n",
    "print(\"sum =\", first + second)"
   ]
  },
  {
   "cell_type": "code",
   "execution_count": null,
   "id": "0926e21a-3c6b-41b7-9acc-00492d95acbd",
   "metadata": {},
   "outputs": [],
   "source": [
    "first = int(input(\"First Number to Multiply: \")) \n",
    "second = int(input(\"Second Number to Multiply: \"))\n",
    "\n",
    "print(\"sum =\", first * second)"
   ]
  },
  {
   "cell_type": "code",
   "execution_count": 31,
   "id": "3286225e-34f7-458f-815c-f29bb7af2588",
   "metadata": {},
   "outputs": [
    {
     "name": "stdin",
     "output_type": "stream",
     "text": [
      "Enter Side of a Square:  5\n"
     ]
    },
    {
     "name": "stdout",
     "output_type": "stream",
     "text": [
      "Area of the Square = 25.0\n"
     ]
    }
   ],
   "source": [
    "#WAP to input side of a square and print its area\n",
    "a = float(input(\"Enter Side of a Square: \"))\n",
    "\n",
    "print(\"Area of the Square =\", a * a)"
   ]
  },
  {
   "cell_type": "code",
   "execution_count": 33,
   "id": "e6777ccd-696f-465f-b50b-a90d83438126",
   "metadata": {},
   "outputs": [
    {
     "name": "stdin",
     "output_type": "stream",
     "text": [
      "Enter Side of a Square:  4\n"
     ]
    },
    {
     "name": "stdout",
     "output_type": "stream",
     "text": [
      "Area of the Square = 16.0\n"
     ]
    }
   ],
   "source": [
    "#WAP to input side of a square and print its area method 2\n",
    "a = float(input(\"Enter Side of a Square: \"))\n",
    "\n",
    "print(\"Area of the Square =\", a ** 2)"
   ]
  },
  {
   "cell_type": "code",
   "execution_count": 38,
   "id": "000a2cea-e17d-48f8-ab30-f9e7f60b60fd",
   "metadata": {},
   "outputs": [
    {
     "name": "stdin",
     "output_type": "stream",
     "text": [
      "Enter First Number:  5\n",
      "Enter Second Number:  7\n"
     ]
    },
    {
     "name": "stdout",
     "output_type": "stream",
     "text": [
      "Avg = 6.0\n"
     ]
    }
   ],
   "source": [
    "#WAP to input two floating point numbers and print their average\n",
    "a = float(input(\"Enter First Number: \"))\n",
    "b = float(input(\"Enter Second Number: \"))\n",
    "\n",
    "print(\"Avg =\", (a + b) / 2)"
   ]
  },
  {
   "cell_type": "code",
   "execution_count": 49,
   "id": "94729dd0-fbb4-4d5b-a7b2-8383d797075b",
   "metadata": {},
   "outputs": [
    {
     "name": "stdin",
     "output_type": "stream",
     "text": [
      "Enter First Number:  7\n",
      "Enter Second Number:  5\n"
     ]
    },
    {
     "name": "stdout",
     "output_type": "stream",
     "text": [
      "True\n"
     ]
    }
   ],
   "source": [
    "#WAP toinput 2 int numbers, a & b\n",
    "#Print true if a is equal or greater than b, If not print false\n",
    "a = int(input(\"Enter First Number: \"))\n",
    "b = int(input(\"Enter Second Number: \"))\n",
    "\n",
    "print(a >= b)"
   ]
  },
  {
   "cell_type": "code",
   "execution_count": null,
   "id": "e539311a-d80d-4fe1-98dc-56e33808ceb1",
   "metadata": {},
   "outputs": [],
   "source": []
  }
 ],
 "metadata": {
  "kernelspec": {
   "display_name": "Python 3 (ipykernel)",
   "language": "python",
   "name": "python3"
  },
  "language_info": {
   "codemirror_mode": {
    "name": "ipython",
    "version": 3
   },
   "file_extension": ".py",
   "mimetype": "text/x-python",
   "name": "python",
   "nbconvert_exporter": "python",
   "pygments_lexer": "ipython3",
   "version": "3.13.5"
  }
 },
 "nbformat": 4,
 "nbformat_minor": 5
}
