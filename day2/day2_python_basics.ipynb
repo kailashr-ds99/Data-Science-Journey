{
 "cells": [
  {
   "cell_type": "code",
   "execution_count": 1,
   "id": "ed01f044-7324-4894-882e-ddfe52edae19",
   "metadata": {},
   "outputs": [],
   "source": [
    "#variable"
   ]
  },
  {
   "cell_type": "code",
   "execution_count": 2,
   "id": "0ebb1931-da89-46cc-a055-0cb0b2f63d36",
   "metadata": {},
   "outputs": [],
   "source": [
    "name = \"Kailash\""
   ]
  },
  {
   "cell_type": "code",
   "execution_count": 3,
   "id": "c36b8cf3-b906-4df1-9c1d-7ef294a98ba3",
   "metadata": {},
   "outputs": [],
   "source": [
    "age = 34"
   ]
  },
  {
   "cell_type": "code",
   "execution_count": 5,
   "id": "6aa26b23-e8bc-471c-9b0b-9217cf808546",
   "metadata": {},
   "outputs": [
    {
     "name": "stdout",
     "output_type": "stream",
     "text": [
      "My Name is Kailash and I am 34 years old.\n"
     ]
    }
   ],
   "source": [
    "print(f\"My Name is {name} and I am {age} years old.\")"
   ]
  },
  {
   "cell_type": "code",
   "execution_count": 6,
   "id": "d95491df-43f4-492a-8d6c-7f9fca91f8f0",
   "metadata": {},
   "outputs": [],
   "source": [
    "# Lists"
   ]
  },
  {
   "cell_type": "code",
   "execution_count": 7,
   "id": "544d5688-e588-48a2-962a-73c58d0fc33a",
   "metadata": {},
   "outputs": [],
   "source": [
    "numbers = [10, 20, 30, 40]"
   ]
  },
  {
   "cell_type": "code",
   "execution_count": 8,
   "id": "f1ed5331-fdf4-4273-bd94-e80cb460fbe3",
   "metadata": {},
   "outputs": [
    {
     "name": "stdout",
     "output_type": "stream",
     "text": [
      "30\n"
     ]
    }
   ],
   "source": [
    "print(numbers[2]) #access"
   ]
  },
  {
   "cell_type": "code",
   "execution_count": 9,
   "id": "82fca17a-0344-49ce-a245-c04d26a96310",
   "metadata": {},
   "outputs": [],
   "source": [
    "# Loops"
   ]
  },
  {
   "cell_type": "code",
   "execution_count": 11,
   "id": "55f25335-1682-4313-9f40-7446ba366bf9",
   "metadata": {},
   "outputs": [
    {
     "name": "stdout",
     "output_type": "stream",
     "text": [
      "20\n",
      "40\n",
      "60\n",
      "80\n"
     ]
    }
   ],
   "source": [
    "for num in numbers:\n",
    "    print(num * 2)"
   ]
  },
  {
   "cell_type": "code",
   "execution_count": 12,
   "id": "416610a8-5b43-4799-a0c1-2f994801d0f4",
   "metadata": {},
   "outputs": [],
   "source": [
    "#Functions"
   ]
  },
  {
   "cell_type": "code",
   "execution_count": 15,
   "id": "9953078d-3ab3-4cac-8b17-b99747c825a3",
   "metadata": {},
   "outputs": [],
   "source": [
    "def square(x):\n",
    "    return x ** 2"
   ]
  },
  {
   "cell_type": "code",
   "execution_count": 16,
   "id": "e86ef5d4-d59c-4d73-b36f-161407b0c7e7",
   "metadata": {},
   "outputs": [
    {
     "name": "stdout",
     "output_type": "stream",
     "text": [
      "25\n"
     ]
    }
   ],
   "source": [
    "print(square(5))"
   ]
  },
  {
   "cell_type": "code",
   "execution_count": 20,
   "id": "4af80206-f5c4-44e1-aee3-ae2665856b92",
   "metadata": {},
   "outputs": [
    {
     "name": "stdout",
     "output_type": "stream",
     "text": [
      "Mumbai has a population of 20000000 and density pf 20000 per km².\n"
     ]
    }
   ],
   "source": [
    "city = \"Mumbai\"\n",
    "population = 20_000_000\n",
    "density = 20_000\n",
    "is_coastal = True\n",
    "\n",
    "print(f\"{city} has a population of {population} and density pf {density} per km².\")"
   ]
  },
  {
   "cell_type": "code",
   "execution_count": 23,
   "id": "a6dd34fe-7734-4e51-873e-5aa85a0c3965",
   "metadata": {},
   "outputs": [
    {
     "name": "stdout",
     "output_type": "stream",
     "text": [
      "Thane has a population of 30000000 and desity of 30000 per km².\n"
     ]
    }
   ],
   "source": [
    "city = \"Thane\"\n",
    "population = 30_000_000\n",
    "density = 30_000\n",
    "is_coastal = False\n",
    "\n",
    "print(f\"{city} has a population of {population} and desity of {density} per km².\")"
   ]
  },
  {
   "cell_type": "code",
   "execution_count": null,
   "id": "68278b0c-a0e1-423b-8c62-884e042c613c",
   "metadata": {},
   "outputs": [],
   "source": []
  },
  {
   "cell_type": "code",
   "execution_count": 26,
   "id": "4fc21faa-5dfe-4ef2-9662-ad7a940de99e",
   "metadata": {},
   "outputs": [
    {
     "name": "stdout",
     "output_type": "stream",
     "text": [
      "One of the most well known cities of India is Thane, it has a population of 3000000 with a density of 30000 and many people of the country believing it to be a coastal city is False.\n"
     ]
    }
   ],
   "source": [
    "city = \"Thane\"\n",
    "population = 3000000\n",
    "density = 30000\n",
    "is_coastal = False\n",
    "print(f\"One of the most well known cities of India is {city}, it has a population of {population} with a density of {density} and many people of the country believing it to be a coastal city is {is_coastal}.\")"
   ]
  },
  {
   "cell_type": "code",
   "execution_count": 30,
   "id": "8ee04894-ddb4-4f37-b243-a1a611d0c6ba",
   "metadata": {},
   "outputs": [
    {
     "name": "stdout",
     "output_type": "stream",
     "text": [
      "Thane has a population of 30,000,000 and density of 30,000 per km².\n"
     ]
    }
   ],
   "source": [
    "city = \"Thane\"\n",
    "population = 3_00_00_000\n",
    "density = 30_000\n",
    "is_coastal = False\n",
    "print(f\"{city} has a population of {population:,} and density of {density:,} per km².\")"
   ]
  },
  {
   "cell_type": "code",
   "execution_count": 32,
   "id": "0a13c3d5-5bc3-4209-a9ea-f7ca29fd48dc",
   "metadata": {},
   "outputs": [
    {
     "name": "stdout",
     "output_type": "stream",
     "text": [
      "full list:['Mango', 'Banana', 'Apple', 'Grapes', 'Orange', 'Papaya']\n"
     ]
    }
   ],
   "source": [
    "fruits = [\"Mango\", \"Banana\", \"Apple\", \"Grapes\", \"Orange\", \"Papaya\"]\n",
    "print(f\"full list:{fruits}\")"
   ]
  },
  {
   "cell_type": "code",
   "execution_count": 33,
   "id": "8f19b053-bda0-4064-9487-671686c74b58",
   "metadata": {},
   "outputs": [
    {
     "name": "stdout",
     "output_type": "stream",
     "text": [
      "full list:['Mango', 'Banana', 'Apple', 'Grapes', 'Orange', 'Papaya']\n"
     ]
    }
   ],
   "source": [
    "fruits = [\"Mango\", \"Banana\", \"Apple\", \"Grapes\", \"Orange\", \"Papaya\"]\n",
    "print(f\"full list:{fruits}\")"
   ]
  },
  {
   "cell_type": "code",
   "execution_count": 39,
   "id": "d5e1d8ca-e1d5-494c-9a62-a6933c60a805",
   "metadata": {},
   "outputs": [
    {
     "name": "stdout",
     "output_type": "stream",
     "text": [
      "First fruit:Mango\n",
      "Last fruit:Papaya\n",
      "Middle fruit:Grapes\n"
     ]
    }
   ],
   "source": [
    "fruits = [\"Mango\", \"Banana\", \"Apple\", \"Grapes\", \"Orange\", \"Papaya\"]\n",
    "print(f\"First fruit:{fruits[0]}\")       #index 0 → first element\n",
    "print(f\"Last fruit:{fruits[-1]}\")              #index -1 → last element\n",
    "print(f\"Middle fruit:{fruits[len(fruits)//2]}\") #len()//2 → middle index"
   ]
  },
  {
   "cell_type": "code",
   "execution_count": 40,
   "id": "dd0b9bc7-74ce-4008-b2be-b96c0fc77957",
   "metadata": {},
   "outputs": [
    {
     "name": "stdout",
     "output_type": "stream",
     "text": [
      "First Fruit:Mango\n",
      "Last Fruit:Papaya\n",
      "Middle Fruit:Grapes\n"
     ]
    }
   ],
   "source": [
    "fruits = [\"Mango\", \"Banana\", \"Apple\", \"Grapes\", \"Orange\", \"Papaya\"]\n",
    "print(f\"First Fruit:{fruits[0]}\")                 #index 0 → first element\n",
    "print(f\"Last Fruit:{fruits[-1]}\")                 #index -1 → last element\n",
    "print(f\"Middle Fruit:{fruits[len(fruits)//2]}\")   #len()//2 → middle index"
   ]
  },
  {
   "cell_type": "code",
   "execution_count": 41,
   "id": "75e3b419-004d-4db5-bc27-c2c81ee77354",
   "metadata": {},
   "outputs": [
    {
     "name": "stdout",
     "output_type": "stream",
     "text": [
      "After adding Pineapple:['Mango', 'Banana', 'Apple', 'Grapes', 'Orange', 'Papaya', 'Pineapple']\n"
     ]
    }
   ],
   "source": [
    "fruits = [\"Mango\", \"Banana\", \"Apple\", \"Grapes\", \"Orange\", \"Papaya\"]\n",
    "fruits.append(\"Pineapple\")\n",
    "print(f\"After adding Pineapple:{fruits}\")"
   ]
  },
  {
   "cell_type": "code",
   "execution_count": 43,
   "id": "ab50d543-b3a5-4b7a-9a1b-50fc2fc66c96",
   "metadata": {},
   "outputs": [
    {
     "name": "stdout",
     "output_type": "stream",
     "text": [
      "After adding Pineapple and removing Banana:['Mango', 'Apple', 'Grapes', 'Orange', 'Papaya', 'Pineapple']\n"
     ]
    }
   ],
   "source": [
    "fruits = [\"Mango\", \"Banana\", \"Apple\", \"Grapes\", \"Orange\", \"Papaya\"]\n",
    "fruits.append(\"Pineapple\")\n",
    "fruits.remove(\"Banana\")\n",
    "print(f\"After adding Pineapple and removing Banana:{fruits}\")"
   ]
  },
  {
   "cell_type": "code",
   "execution_count": 44,
   "id": "567ca97a-40a2-4070-9e31-131942854204",
   "metadata": {},
   "outputs": [
    {
     "name": "stdout",
     "output_type": "stream",
     "text": [
      "List after adding Pineapple, removing Banana and replaceing Mango with Strawberry;['Mango', 'Strawberry', 'Grapes', 'Orange', 'Papaya', 'Pineapple']\n"
     ]
    }
   ],
   "source": [
    "fruits = [\"Mango\", \"Banana\", \"Apple\", \"Grapes\", \"Orange\", \"Papaya\"]\n",
    "fruits.append(\"Pineapple\")\n",
    "fruits.remove(\"Banana\")\n",
    "fruits[1] = \"Strawberry\"      #replace element at index 1\n",
    "print(f\"List after adding Pineapple, removing Banana and replaceing Mango with Strawberry;{fruits}\")"
   ]
  },
  {
   "cell_type": "code",
   "execution_count": 45,
   "id": "24ba750f-9d95-4a25-b644-821706ebf1ec",
   "metadata": {},
   "outputs": [
    {
     "name": "stdout",
     "output_type": "stream",
     "text": [
      "Sliced list (index 1 to 3): ['Strawberry', 'Grapes', 'Orange']\n"
     ]
    }
   ],
   "source": [
    "print(f\"Sliced list (index 1 to 3): {fruits[1:4]}\")  \n",
    "# stops before index 4\n"
   ]
  },
  {
   "cell_type": "code",
   "execution_count": 46,
   "id": "949ba4c9-dcd3-4f5f-89a9-44ef68c796a5",
   "metadata": {},
   "outputs": [
    {
     "name": "stdout",
     "output_type": "stream",
     "text": [
      "sliced list (index 1 to 3):['Strawberry', 'Grapes', 'Orange']\n"
     ]
    }
   ],
   "source": [
    "print(f\"sliced list (index 1 to 3):{fruits[1:4]}\")\n",
    "#stops before index 4"
   ]
  },
  {
   "cell_type": "code",
   "execution_count": 47,
   "id": "580cdecf-0410-43e2-8167-de7a98bd917a",
   "metadata": {},
   "outputs": [
    {
     "name": "stdout",
     "output_type": "stream",
     "text": [
      "Mango\n",
      "Banana\n",
      "Apple\n",
      "Grapes\n",
      "Orange\n",
      "Papaya\n"
     ]
    }
   ],
   "source": [
    "fruits = [\"Mango\", \"Banana\", \"Apple\", \"Grapes\", \"Orange\", \"Papaya\"]\n",
    "for fruit in fruits:  #loop through each element\n",
    "    print(fruit)"
   ]
  },
  {
   "cell_type": "code",
   "execution_count": 48,
   "id": "eb682ec5-d015-43d1-8a1f-bab637fb1a0f",
   "metadata": {},
   "outputs": [
    {
     "name": "stdout",
     "output_type": "stream",
     "text": [
      "Papaya\n"
     ]
    }
   ],
   "source": [
    "print(fruit)"
   ]
  },
  {
   "cell_type": "code",
   "execution_count": 51,
   "id": "7403453c-b158-4d04-b37b-b1e04a32ba95",
   "metadata": {},
   "outputs": [
    {
     "name": "stdout",
     "output_type": "stream",
     "text": [
      "Mango\n",
      "Banana\n",
      "Apple\n",
      "Grapes\n",
      "Orange\n",
      "Papaya\n"
     ]
    }
   ],
   "source": [
    "for fruit in fruits:\n",
    "    print(fruit)    "
   ]
  },
  {
   "cell_type": "raw",
   "id": "d09e5627-2644-4afb-87dd-29bcfd8e53e1",
   "metadata": {},
   "source": [
    "for fruit in fruits:  #loop through each element\n",
    "    print(fruit)"
   ]
  },
  {
   "cell_type": "code",
   "execution_count": 52,
   "id": "667ece4d-d918-48ec-af2b-0e87f47d9052",
   "metadata": {},
   "outputs": [
    {
     "name": "stdout",
     "output_type": "stream",
     "text": [
      "Mango\n",
      "Banana\n",
      "Apple\n",
      "Grapes\n",
      "Orange\n",
      "Papaya\n"
     ]
    }
   ],
   "source": [
    "for fruit in fruits:\n",
    "    print(fruit)"
   ]
  },
  {
   "cell_type": "code",
   "execution_count": 53,
   "id": "e11cdbd1-7a46-40c2-8373-ac30341f5983",
   "metadata": {},
   "outputs": [
    {
     "name": "stdout",
     "output_type": "stream",
     "text": [
      "Mango\n",
      "Banana\n",
      "Apple\n",
      "Grapes\n",
      "Orange\n",
      "Papaya\n"
     ]
    }
   ],
   "source": [
    "for fruit in fruits:     #loops through each element\n",
    "    print(fruit)"
   ]
  },
  {
   "cell_type": "code",
   "execution_count": 54,
   "id": "c73556c7-c733-47d8-b840-81b613fbb749",
   "metadata": {},
   "outputs": [
    {
     "name": "stdout",
     "output_type": "stream",
     "text": [
      "[6, 12, 18, 24, 30]\n"
     ]
    }
   ],
   "source": [
    "numbers = [2, 4, 6, 8, 10]\n",
    "multiplied =[]    #Empty list to store results\n",
    "\n",
    "for num in numbers:\n",
    "    multiplied.append(num * 3)\n",
    "\n",
    "print(multiplied)    "
   ]
  },
  {
   "cell_type": "code",
   "execution_count": 55,
   "id": "d12e02b3-3e87-4e29-9268-46f23f88678a",
   "metadata": {},
   "outputs": [
    {
     "name": "stdout",
     "output_type": "stream",
     "text": [
      "[4]\n",
      "[4, 8]\n",
      "[4, 8, 12]\n",
      "[4, 8, 12, 16]\n",
      "[4, 8, 12, 16, 20]\n"
     ]
    }
   ],
   "source": [
    "numbers = [2, 4, 6, 8,10]\n",
    "multiplied =[]   #Empty list to store results\n",
    "\n",
    "for num in numbers:\n",
    "    multiplied.append(num * 2)\n",
    "\n",
    "    print(multiplied)"
   ]
  },
  {
   "cell_type": "code",
   "execution_count": 63,
   "id": "25db6c22-8118-4a6f-a3a9-d16da1876a8c",
   "metadata": {},
   "outputs": [
    {
     "name": "stdout",
     "output_type": "stream",
     "text": [
      "[4, 8, 12, 16, 20]\n"
     ]
    }
   ],
   "source": [
    "numbers = [2, 4, 6, 8,10]\n",
    "multiplied =[]   #Empty list to store results\n",
    "\n",
    "for num in numbers:\n",
    "    multiplied.append(num * 2)\n",
    "print(multiplied)\n"
   ]
  },
  {
   "cell_type": "code",
   "execution_count": 64,
   "id": "ccd55c78-fda0-4f0b-9a09-747c2dc70071",
   "metadata": {},
   "outputs": [
    {
     "name": "stdout",
     "output_type": "stream",
     "text": [
      "1\n",
      "2\n",
      "3\n",
      "4\n",
      "5\n",
      "6\n",
      "7\n",
      "8\n",
      "9\n",
      "10\n",
      "11\n",
      "12\n",
      "13\n",
      "14\n",
      "15\n",
      "16\n",
      "17\n",
      "18\n",
      "19\n",
      "20\n"
     ]
    }
   ],
   "source": [
    "for i in range(1, 21):   #starts at 1, stop before 21\n",
    "    print(i)"
   ]
  },
  {
   "cell_type": "code",
   "execution_count": 67,
   "id": "5c49f2e9-a7f1-4084-a148-063002a5f0ce",
   "metadata": {},
   "outputs": [
    {
     "name": "stdout",
     "output_type": "stream",
     "text": [
      "Sum of Numbers 1 to 100 is: 5050\n"
     ]
    }
   ],
   "source": [
    "total = 0\n",
    "\n",
    "for i in range (1, 101):\n",
    "    total += i   #Add each number to the total\n",
    "print(\"Sum of Numbers 1 to 100 is:\", total)  "
   ]
  },
  {
   "cell_type": "markdown",
   "id": "0eccdf64-457e-440f-a4e7-c03090b01dca",
   "metadata": {},
   "source": [
    "numbers = [2, 4, 6, 8, 10]\n",
    "multiplied = [num * 3 for num in numbers]\n",
    "\n",
    "print(multiplied)"
   ]
  },
  {
   "cell_type": "code",
   "execution_count": 68,
   "id": "44873ea1-a289-4ad4-9d8e-49ce76a63e8c",
   "metadata": {},
   "outputs": [
    {
     "name": "stdout",
     "output_type": "stream",
     "text": [
      "[6, 12, 18, 24, 30]\n"
     ]
    }
   ],
   "source": [
    "numbers = [2, 4, 6, 8, 10]\n",
    "multiplied = [num * 3 for num in numbers]\n",
    "\n",
    "print(multiplied)\n"
   ]
  },
  {
   "cell_type": "code",
   "execution_count": 70,
   "id": "a47c09d0-32b0-4fa5-9241-ecd5c634b1f4",
   "metadata": {},
   "outputs": [
    {
     "name": "stdout",
     "output_type": "stream",
     "text": [
      "[6, 12, 18, 24, 30]\n"
     ]
    }
   ],
   "source": [
    "numbers = [2, 4, 6, 8, 10]\n",
    "multiplied = [num * 3 for num in numbers]\n",
    "print(multiplied)"
   ]
  },
  {
   "cell_type": "code",
   "execution_count": 71,
   "id": "b90426e9-2c76-48e9-a937-fa903c2f4f26",
   "metadata": {},
   "outputs": [
    {
     "name": "stdout",
     "output_type": "stream",
     "text": [
      "['MANGO', 'APPLE', 'BANANA']\n"
     ]
    }
   ],
   "source": [
    "fruits = [\"Mango\", \"Apple\", \"Banana\"]\n",
    "upper_fruits = [fruits.upper() for fruits in fruits]\n",
    "print(upper_fruits)    "
   ]
  },
  {
   "cell_type": "code",
   "execution_count": 72,
   "id": "6be653e9-8785-4079-8e02-309118feb549",
   "metadata": {},
   "outputs": [
    {
     "name": "stdout",
     "output_type": "stream",
     "text": [
      "[1, 4, 9, 16, 25, 36, 49, 64, 81, 100]\n"
     ]
    }
   ],
   "source": [
    "squares = [n**2 for n in range (1,11)]\n",
    "print(squares)"
   ]
  },
  {
   "cell_type": "code",
   "execution_count": 78,
   "id": "a5f95b9c-82e1-44e4-8525-dfed44d53733",
   "metadata": {},
   "outputs": [
    {
     "name": "stdout",
     "output_type": "stream",
     "text": [
      "[60, 120, 180]\n"
     ]
    }
   ],
   "source": [
    "numbers =[3, 6, 9, 12, 15, 18]   #Step 1: Given List of Numbers\n",
    "result = []                      #Step 2: create an empty list to store results\n",
    "for num in numbers:              #Step 3:loop through each number\n",
    "    if num % 2 == 0:             #Step 4: Check if number is even\n",
    "        result.append(num * 10)  #Step 5: Multiply even number by 10 and store it\n",
    "print(result)                    #Step 6: Print the final result"
   ]
  },
  {
   "cell_type": "code",
   "execution_count": 80,
   "id": "4eed5cf7-06b9-4bfd-9d83-3c0061a2cffb",
   "metadata": {},
   "outputs": [
    {
     "name": "stdout",
     "output_type": "stream",
     "text": [
      "[60, 120, 180]\n"
     ]
    }
   ],
   "source": [
    "numbers = [3, 6, 9, 12, 15, 18]\n",
    "result = [num * 10 for num in numbers if num % 2 == 0]\n",
    "print(result)"
   ]
  },
  {
   "cell_type": "code",
   "execution_count": 86,
   "id": "ec715e72-5a02-4254-a953-d5e1297a18bb",
   "metadata": {},
   "outputs": [
    {
     "name": "stdout",
     "output_type": "stream",
     "text": [
      "[89.6, 95.0, 104.0]\n"
     ]
    }
   ],
   "source": [
    "temps_c = (25, 32, 28, 35, 40, 22)\n",
    "temps_f = []\n",
    "for temp in temp_c:\n",
    "    if temp > 30:\n",
    "        f = (temp * 9/5) + 32\n",
    "        temps_f.append(f)\n",
    "print(temp_f)"
   ]
  },
  {
   "cell_type": "code",
   "execution_count": 85,
   "id": "d19f89f6-d90d-4cf8-9baa-2dc8395dee0a",
   "metadata": {},
   "outputs": [
    {
     "name": "stdout",
     "output_type": "stream",
     "text": [
      "[89.6, 95.0, 104.0]\n"
     ]
    }
   ],
   "source": [
    "temps_c = [25, 32, 28, 35, 40, 22]\n",
    "temps_f = []\n",
    "for temp in temps_c:\n",
    "    if temp > 30:\n",
    "        f = (temp * 9/5) + 32\n",
    "        temp_f.append(f)\n",
    "print(temp_f)\n"
   ]
  },
  {
   "cell_type": "code",
   "execution_count": 89,
   "id": "5e9201ea-9a2c-4e09-8d01-c0f717897fd1",
   "metadata": {},
   "outputs": [
    {
     "name": "stdout",
     "output_type": "stream",
     "text": [
      "[89.6, 95.0, 104.0]\n"
     ]
    }
   ],
   "source": [
    "temps_c = [25, 32, 28, 35, 40, 22]\n",
    "temp_f = [(temp * 9/5 + 32) for temp in temp_c if temp > 30]\n",
    "print(temp_f)"
   ]
  },
  {
   "cell_type": "code",
   "execution_count": null,
   "id": "6dce517e-03bc-4e3d-b6e0-9ba7bed8461e",
   "metadata": {},
   "outputs": [],
   "source": []
  }
 ],
 "metadata": {
  "kernelspec": {
   "display_name": "Python 3 (ipykernel)",
   "language": "python",
   "name": "python3"
  },
  "language_info": {
   "codemirror_mode": {
    "name": "ipython",
    "version": 3
   },
   "file_extension": ".py",
   "mimetype": "text/x-python",
   "name": "python",
   "nbconvert_exporter": "python",
   "pygments_lexer": "ipython3",
   "version": "3.13.5"
  }
 },
 "nbformat": 4,
 "nbformat_minor": 5
}
