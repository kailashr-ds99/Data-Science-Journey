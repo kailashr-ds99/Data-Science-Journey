{
 "cells": [
  {
   "cell_type": "code",
   "execution_count": 1,
   "id": "51a7f387-fdaa-40ce-b1f2-0eaaee0c0d1a",
   "metadata": {},
   "outputs": [],
   "source": [
    "#CH 6: Functions and Recursions inPython:\n",
    "#function is a Block of statement that performs a specific task."
   ]
  },
  {
   "cell_type": "code",
   "execution_count": 2,
   "id": "e6f9474e-0873-4617-9d93-1fce4131558c",
   "metadata": {},
   "outputs": [
    {
     "name": "stdout",
     "output_type": "stream",
     "text": [
      "4\n"
     ]
    }
   ],
   "source": [
    "#def \n",
    "def calc_sum(a, b):           #function defination,\n",
    "    return a + b              #(a,b) are known as parameters\n",
    "\n",
    "sum = calc_sum(1, 3)          #fucntion call; arguments mention inside brackets\n",
    "print(sum)\n"
   ]
  },
  {
   "cell_type": "code",
   "execution_count": 14,
   "id": "323770f4-83b4-479b-90e9-eaa99e2f2297",
   "metadata": {},
   "outputs": [
    {
     "name": "stdout",
     "output_type": "stream",
     "text": [
      "Hello World\n"
     ]
    }
   ],
   "source": [
    "def print_hello():\n",
    "    print(\"Hello World\")\n",
    "\n",
    "\n",
    "print_hello()\n",
    "\n"
   ]
  },
  {
   "cell_type": "code",
   "execution_count": 16,
   "id": "c3f16f82-2d0e-4cde-a302-062656d1174e",
   "metadata": {},
   "outputs": [
    {
     "name": "stdout",
     "output_type": "stream",
     "text": [
      "Hello\n",
      "None\n",
      "Hello\n"
     ]
    }
   ],
   "source": [
    "def print_hello():\n",
    "    print(\"Hello\")\n",
    "output = print_hello()\n",
    "print(output)\n",
    "print_hello()"
   ]
  },
  {
   "cell_type": "code",
   "execution_count": 26,
   "id": "da9014b9-9197-4bed-9160-926169c8e62e",
   "metadata": {},
   "outputs": [],
   "source": [
    "# create a function to calculate avg of 3 numbers\n",
    "\n",
    "\n",
    "\n",
    "def calc_avg(a, b, c):\n",
    "    sum = a + b + c\n",
    "    avg = sum / 3\n",
    "    print(avg)\n",
    "    return avg\n",
    "\n",
    "calc_avg:(98, 97, 95)\n"
   ]
  },
  {
   "cell_type": "code",
   "execution_count": 27,
   "id": "ca64e7c0-7d4e-4797-bfcc-9672f5dae08d",
   "metadata": {},
   "outputs": [
    {
     "name": "stdout",
     "output_type": "stream",
     "text": [
      "96.66666666666667\n"
     ]
    },
    {
     "data": {
      "text/plain": [
       "96.66666666666667"
      ]
     },
     "execution_count": 27,
     "metadata": {},
     "output_type": "execute_result"
    }
   ],
   "source": [
    "def calc_avg(a, b, c):\n",
    "    sum = a + b + c\n",
    "    avg = sum / 3\n",
    "    print(avg)\n",
    "    return avg\n",
    "\n",
    "calc_avg(98, 97, 95)"
   ]
  },
  {
   "cell_type": "code",
   "execution_count": 30,
   "id": "01192f12-94c8-4c65-aa2c-e3ab5e6898e0",
   "metadata": {},
   "outputs": [
    {
     "name": "stdout",
     "output_type": "stream",
     "text": [
      "Thor Mumbai\n",
      "4\n",
      "4\n"
     ]
    }
   ],
   "source": [
    "cities = [\"Delhi\", \"Mumbai\", \"Banglore\", \"Chennai\",]\n",
    "heroes = [\"Thor\", \"Iron-Man\", \"Captain America\", \"Shaktimaan\",]\n",
    "\n",
    "print(heroes[0], end=\" \")\n",
    "print(cities[1])\n",
    "\n",
    "def print_len(list):\n",
    "    print(len(list))\n",
    "\n",
    "print(len(cities))\n",
    "print(len(heroes))"
   ]
  },
  {
   "cell_type": "code",
   "execution_count": 45,
   "id": "20ddc220-da85-4d5d-949f-b8a1b78e76c4",
   "metadata": {},
   "outputs": [
    {
     "name": "stdout",
     "output_type": "stream",
     "text": [
      "Delhi Mumbai Banglore Chennai Thor Iron-Man Captain America Shaktimaan "
     ]
    }
   ],
   "source": [
    "#print a list in single line\n",
    "cities = [\"Delhi\", \"Mumbai\", \"Banglore\", \"Chennai\"]\n",
    "heroes = [\"Thor\", \"Iron-Man\", \"Captain America\", \"Shaktimaan\"]\n",
    "\n",
    "def print_len(list):\n",
    "    print(len(list))\n",
    "\n",
    "def print_list(list):\n",
    "    for item in list:\n",
    "        print(item, end=\" \")\n",
    "print_list(cities)\n",
    "print_list(heroes)"
   ]
  },
  {
   "cell_type": "code",
   "execution_count": 43,
   "id": "995c3210-8f64-4c30-b924-6a3ca2d36817",
   "metadata": {},
   "outputs": [
    {
     "name": "stdout",
     "output_type": "stream",
     "text": [
      "Delhi Mumbai Banglore Chennai \n",
      "Thor Iron-Man Captain America Shaktimaan \n"
     ]
    }
   ],
   "source": [
    "cities = [\"Delhi\", \"Mumbai\", \"Banglore\", \"Chennai\"]\n",
    "heroes = [\"Thor\", \"Iron-Man\", \"Captain America\", \"Shaktimaan\"]\n",
    "\n",
    "del print  # this removes your overwritten variable, restoring built-in print\n",
    "\n",
    "\n",
    "def print_list(lst):\n",
    "    for item in lst:\n",
    "        print(item, end=\" \")\n",
    "    print()  # ensures it moves to a new line after printing\n",
    "\n",
    "print_list(cities)\n",
    "print_list(heroes)\n"
   ]
  },
  {
   "cell_type": "code",
   "execution_count": 44,
   "id": "12951bf1-707a-4660-a7b6-04455e96eb94",
   "metadata": {},
   "outputs": [
    {
     "name": "stdout",
     "output_type": "stream",
     "text": [
      "Delhi Mumbai Banglore Chennai \n",
      "Thor Iron-Man Captain America Shaktimaan \n"
     ]
    }
   ],
   "source": [
    "cities = [\"Delhi\", \"Mumbai\", \"Banglore\", \"Chennai\"]\n",
    "heroes = [\"Thor\", \"Iron-Man\", \"Captain America\", \"Shaktimaan\"]\n",
    "\n",
    "def print_len(list):\n",
    "    print(len(list))\n",
    "\n",
    "def print_list(list):\n",
    "    for item in list:\n",
    "        print(item, end=\" \")\n",
    "    print()\n",
    "    \n",
    "print_list(cities)\n",
    "print_list(heroes)"
   ]
  },
  {
   "cell_type": "code",
   "execution_count": 47,
   "id": "225d9fc1-f73b-4e1b-abd9-43bf41abc321",
   "metadata": {},
   "outputs": [
    {
     "name": "stdout",
     "output_type": "stream",
     "text": [
      "120\n"
     ]
    }
   ],
   "source": [
    "#WAF to find the dactorial of n. (n is the Parameter)\n",
    "n = 5\n",
    "fact = 1\n",
    "for i in range(1, n+1):\n",
    "    fact *= i\n",
    "print(fact)"
   ]
  },
  {
   "cell_type": "code",
   "execution_count": 50,
   "id": "1898a699-34c2-4782-8874-d251995616a2",
   "metadata": {},
   "outputs": [
    {
     "name": "stdout",
     "output_type": "stream",
     "text": [
      "479001600\n"
     ]
    }
   ],
   "source": [
    "def calc_fact(n):\n",
    "    fact = 1\n",
    "    for i in range(1, n+1):\n",
    "        fact *= i\n",
    "    print(fact)\n",
    "\n",
    "calc_fact(12)"
   ]
  },
  {
   "cell_type": "code",
   "execution_count": 62,
   "id": "6ecce97a-9e1f-4215-91ac-16086a5e6928",
   "metadata": {},
   "outputs": [
    {
     "name": "stdout",
     "output_type": "stream",
     "text": [
      "1000000 USD = 83000000 INR\n"
     ]
    }
   ],
   "source": [
    "#WAF to convert USD to INR.\n",
    "\n",
    "def converter(usd_val):\n",
    "    inr_val = usd_val * 83\n",
    "    print(usd_val, \"USD =\", inr_val, \"INR\")\n",
    "\n",
    "converter(1000000)"
   ]
  },
  {
   "cell_type": "code",
   "execution_count": 66,
   "id": "ca800774-4c2d-4634-8f18-c340361d4d35",
   "metadata": {},
   "outputs": [
    {
     "name": "stdin",
     "output_type": "stream",
     "text": [
      "Enter a Number:  3\n"
     ]
    },
    {
     "data": {
      "text/plain": [
       "'ODD'"
      ]
     },
     "execution_count": 66,
     "metadata": {},
     "output_type": "execute_result"
    }
   ],
   "source": [
    "#WAF that takes an input, if the number is odd returns a string 'ODD' if the number i even, then returns 'EVEN'\n",
    "\n",
    "n = int(input(\"Enter a Number: \"))\n",
    "\n",
    "def calc_eo(n):\n",
    "    if n % 2 == 0:\n",
    "        return \"EVEN\"\n",
    "    else:\n",
    "        return \"ODD\"\n",
    "\n",
    "calc_eo(n)\n"
   ]
  },
  {
   "cell_type": "code",
   "execution_count": 77,
   "id": "1710c209-7d41-4e20-91d8-e2abfdc6b96b",
   "metadata": {},
   "outputs": [
    {
     "name": "stdin",
     "output_type": "stream",
     "text": [
      "Enter a Number:  4\n"
     ]
    },
    {
     "data": {
      "text/plain": [
       "'EVEN'"
      ]
     },
     "execution_count": 77,
     "metadata": {},
     "output_type": "execute_result"
    }
   ],
   "source": [
    "\n",
    "\n",
    "n = int(input(\"Enter a Number: \"))\n",
    "\n",
    "def calc_eo(n):\n",
    "    return \"EVEN\" if n % 2 == 0 else \"ODD\"\n",
    "\n",
    "calc_eo(n)"
   ]
  },
  {
   "cell_type": "code",
   "execution_count": 78,
   "id": "51bf2161-00f9-4d0a-b7e7-153b91745f98",
   "metadata": {},
   "outputs": [],
   "source": [
    "# Recursion #When a function calls itself repeatedly.\n",
    "\n",
    "#prints n to 1 backwards\n",
    "def show(n):\n",
    "    if (n == 0):\n",
    "        return\n",
    "    print(n)\n",
    "    show(n-1)"
   ]
  },
  {
   "cell_type": "code",
   "execution_count": 87,
   "id": "d8b0ea43-f039-4474-add0-fbaa07e8d4f5",
   "metadata": {},
   "outputs": [
    {
     "name": "stdout",
     "output_type": "stream",
     "text": [
      "55\n"
     ]
    }
   ],
   "source": [
    "def calc_sum(n):\n",
    "    if (n == 0):\n",
    "        return 0\n",
    "    return calc_sum(n-1) + n\n",
    "\n",
    "sum = calc_sum(10)\n",
    "print(sum)\n"
   ]
  },
  {
   "cell_type": "code",
   "execution_count": 91,
   "id": "a277ef85-86af-44cd-a581-542122807571",
   "metadata": {},
   "outputs": [
    {
     "name": "stdout",
     "output_type": "stream",
     "text": [
      "['mango', 'litchi', 'apple', 'banana'] 1\n"
     ]
    }
   ],
   "source": [
    "#Write a recursive function to print all elements in a list. Hint: use list & index as parameters\n",
    "\n",
    "def print_list(list, idx=0):\n",
    "    if (idx == len(list)):\n",
    "        return\n",
    "    print(list, idx+1)\n",
    "    \n",
    "fruits = [\"mango\", \"litchi\", \"apple\", \"banana\"]\n",
    "\n",
    "print_list(fruits)"
   ]
  },
  {
   "cell_type": "code",
   "execution_count": 90,
   "id": "dc8a7800-7e17-4b37-94d1-47d8d2000907",
   "metadata": {},
   "outputs": [
    {
     "name": "stdout",
     "output_type": "stream",
     "text": [
      "mango\n",
      "litchi\n",
      "apple\n",
      "banana\n"
     ]
    }
   ],
   "source": [
    "def print_list(list, idx=0):\n",
    "    if(idx == len(list)):\n",
    "        return\n",
    "    print(list[idx])\n",
    "    print_list(list, idx + 1)\n",
    "    \n",
    "fruits = [\"mango\", \"litchi\", \"apple\", \"banana\"]\n",
    "\n",
    "print_list(fruits)"
   ]
  },
  {
   "cell_type": "code",
   "execution_count": 2,
   "id": "21a72cf8-f5d0-44cd-8a4a-f85cb936f435",
   "metadata": {},
   "outputs": [
    {
     "name": "stdout",
     "output_type": "stream",
     "text": [
      "mango\n",
      "litchi\n",
      "apple\n",
      "banana\n"
     ]
    }
   ],
   "source": [
    "\n",
    "def print_list(list, idx = 0):\n",
    "    if(idx == len(list)):\n",
    "        return\n",
    "    print(list[idx])\n",
    "    print_list(list, idx + 1)\n",
    "\n",
    "\n",
    "fruits = [\"mango\", \"litchi\", \"apple\", \"banana\"]\n",
    "print_list(fruits)"
   ]
  },
  {
   "cell_type": "code",
   "execution_count": null,
   "id": "01546a03-e402-412d-971a-a1a911af5646",
   "metadata": {},
   "outputs": [],
   "source": []
  }
 ],
 "metadata": {
  "kernelspec": {
   "display_name": "Python 3 (ipykernel)",
   "language": "python",
   "name": "python3"
  },
  "language_info": {
   "codemirror_mode": {
    "name": "ipython",
    "version": 3
   },
   "file_extension": ".py",
   "mimetype": "text/x-python",
   "name": "python",
   "nbconvert_exporter": "python",
   "pygments_lexer": "ipython3",
   "version": "3.13.5"
  }
 },
 "nbformat": 4,
 "nbformat_minor": 5
}
