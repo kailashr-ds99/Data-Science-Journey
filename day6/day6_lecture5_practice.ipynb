{
 "cells": [
  {
   "cell_type": "code",
   "execution_count": 6,
   "id": "5f5d24ec-0307-415e-bb46-debddff8143e",
   "metadata": {},
   "outputs": [
    {
     "name": "stdout",
     "output_type": "stream",
     "text": [
      "Hello\n",
      "Hello\n",
      "Hello\n",
      "Hello\n",
      "Hello\n",
      "Kailash\n",
      "Kailash\n",
      "Kailash\n"
     ]
    }
   ],
   "source": [
    "# Chap 5: LOOPS in Python\n",
    "#Loops are used to repeat instructions.\n",
    "# While Loops: While condition: # some work\n",
    "#there are two types of Loops: 1. While loop 2. for loop\n",
    "count = 1\n",
    "while count <= 5 :\n",
    "    print(\"Hello\")  \n",
    "    count +=1\n",
    "i = 1\n",
    "while i <= 3:\n",
    "    print(\"Kailash\")\n",
    "    i+= 1"
   ]
  },
  {
   "cell_type": "code",
   "execution_count": 7,
   "id": "bac1bb70-c9d8-4fbc-a17b-54868ca2cc5a",
   "metadata": {
    "panel-layout": {
     "height": 0,
     "visible": true,
     "width": 100
    }
   },
   "outputs": [
    {
     "name": "stdout",
     "output_type": "stream",
     "text": [
      "5\n",
      "4\n",
      "3\n",
      "2\n",
      "1\n",
      "Loop Ended\n"
     ]
    }
   ],
   "source": [
    "i = 5\n",
    "while i >= 1:\n",
    "    print(i)\n",
    "    i -= 1\n",
    "\n",
    "print(\"Loop Ended\")"
   ]
  },
  {
   "cell_type": "code",
   "execution_count": null,
   "id": "e28c2fdc-78e4-4278-8706-2dad528e3e55",
   "metadata": {},
   "outputs": [],
   "source": [
    "i = 1\n",
    "while i <= 3:\n",
    "    print(\"Kailash Raut\", i)\n",
    "    i += 1"
   ]
  },
  {
   "cell_type": "code",
   "execution_count": null,
   "id": "dbe11bf9-fb50-473d-887b-dcf700d0a66b",
   "metadata": {},
   "outputs": [],
   "source": [
    "i = 1\n",
    "while i <= 5:\n",
    "    print(\"Kailash Raut\", 1)\n",
    "    i += 1"
   ]
  },
  {
   "cell_type": "code",
   "execution_count": 9,
   "id": "cd3fe689-c9c7-427f-88ff-308d2c1a15bf",
   "metadata": {},
   "outputs": [
    {
     "name": "stdout",
     "output_type": "stream",
     "text": [
      "Kailash 1\n",
      "Kailash 2\n",
      "Kailash 3\n",
      "Kailash 4\n",
      "Loop Ended\n",
      "ERROR! Session/line number was not unique in"
     ]
    }
   ],
   "source": [
    "i = 1\n",
    "while i <= 4:\n",
    "    print(\"Kailash\", i)\n",
    "    i += 1 \n",
    "print(\"Loop Ended\")"
   ]
  },
  {
   "cell_type": "code",
   "execution_count": 10,
   "id": "2349ccad-9a96-4ea0-8cc3-f4945270ae18",
   "metadata": {},
   "outputs": [
    {
     "name": "stdout",
     "output_type": "stream",
     "text": [
      " database. History logging moved to new session 25\n",
      "1\n",
      "2\n",
      "3\n",
      "4\n",
      "5\n",
      "Loop Ended\n"
     ]
    }
   ],
   "source": [
    "i = 1\n",
    "while i <= 5:\n",
    "    print(i)\n",
    "    i += 1\n",
    "print(\"Loop Ended\")"
   ]
  },
  {
   "cell_type": "code",
   "execution_count": null,
   "id": "b5888374-a19d-41eb-8ff4-f6ad68abc119",
   "metadata": {},
   "outputs": [],
   "source": [
    "#Lets Practice while loops: Print numbers from 1 to 100\n",
    "\n"
   ]
  },
  {
   "cell_type": "code",
   "execution_count": null,
   "id": "35ac1a99-5251-4e04-a05b-facfaf465095",
   "metadata": {},
   "outputs": [],
   "source": [
    "count = 1\n",
    "while count <= 5 :\n",
    "    print(\"hello\")\n",
    "    count +=1\n",
    "print(count)"
   ]
  },
  {
   "cell_type": "code",
   "execution_count": null,
   "id": "c9977085-69fc-4b5e-9b37-b7b67d77d4a3",
   "metadata": {},
   "outputs": [],
   "source": [
    "i = 1\n",
    "while i <= 10:\n",
    "    print(\"Kailash\", i)\n",
    "    i += 1"
   ]
  },
  {
   "cell_type": "code",
   "execution_count": null,
   "id": "f1926d16-11a6-4b84-9757-b3c67f846a56",
   "metadata": {},
   "outputs": [],
   "source": [
    "i = 1\n",
    "while i <= 5:\n",
    "    print(i)\n",
    "    i += 1\n",
    "print(\"Loop Ended\")"
   ]
  },
  {
   "cell_type": "code",
   "execution_count": 1,
   "id": "c833206f-fdbb-4295-96ba-20aa820db200",
   "metadata": {},
   "outputs": [
    {
     "name": "stdout",
     "output_type": "stream",
     "text": [
      "5\n",
      "4\n",
      "3\n",
      "2\n",
      "1\n",
      "Loop Ended\n"
     ]
    }
   ],
   "source": [
    "i = 5\n",
    "while i >= 1:\n",
    "    print(i)\n",
    "    i -= 1\n",
    "print(\"Loop Ended\")"
   ]
  },
  {
   "cell_type": "code",
   "execution_count": 2,
   "id": "a54c1f4d-0b61-43d1-bfff-34b0cc86ae04",
   "metadata": {},
   "outputs": [
    {
     "name": "stdout",
     "output_type": "stream",
     "text": [
      "Hello 1\n",
      "Hello 2\n",
      "Hello 3\n"
     ]
    }
   ],
   "source": [
    "i = 1\n",
    "while i <= 3:\n",
    "    print(\"Hello\", i)\n",
    "    i += 1"
   ]
  },
  {
   "cell_type": "code",
   "execution_count": 4,
   "id": "4c5c2523-1243-4c3c-9d2c-0512c41b0080",
   "metadata": {},
   "outputs": [
    {
     "name": "stdout",
     "output_type": "stream",
     "text": [
      "Kailash 5\n",
      "Kailash 4\n",
      "Kailash 3\n",
      "Kailash 2\n",
      "Kailash 1\n",
      "End of Loop\n"
     ]
    }
   ],
   "source": [
    "i = 5\n",
    "while i >= 1:\n",
    "    print(\"Kailash\", i)\n",
    "    i -= 1\n",
    "print(\"End of Loop\")"
   ]
  },
  {
   "cell_type": "code",
   "execution_count": 6,
   "id": "cf3fc724-a45a-4e08-9842-45f78443b111",
   "metadata": {},
   "outputs": [
    {
     "name": "stdout",
     "output_type": "stream",
     "text": [
      "1\n",
      "2\n",
      "3\n",
      "4\n",
      "5\n",
      "6\n",
      "7\n",
      "8\n",
      "9\n",
      "10\n",
      "End of Loop\n"
     ]
    }
   ],
   "source": [
    "i = 1\n",
    "while i <= 10:\n",
    "    print(i)\n",
    "    i += 1\n",
    "print(\"End of Loop\")"
   ]
  },
  {
   "cell_type": "code",
   "execution_count": 9,
   "id": "64a42e59-e57d-4b07-96cc-edec2248259b",
   "metadata": {},
   "outputs": [
    {
     "name": "stdout",
     "output_type": "stream",
     "text": [
      "10\n",
      "9\n",
      "8\n",
      "7\n",
      "6\n",
      "5\n",
      "4\n",
      "3\n",
      "2\n",
      "1\n",
      "End of Loop\n"
     ]
    }
   ],
   "source": [
    "#print 1-10 in loop\n",
    "i = 10\n",
    "while i >= 1:\n",
    "    print(i)\n",
    "    i -= 1\n",
    "print(\"End of Loop\")"
   ]
  },
  {
   "cell_type": "code",
   "execution_count": 4,
   "id": "5f17b672-0630-4bd3-9d28-a35b6fb2cf92",
   "metadata": {},
   "outputs": [
    {
     "name": "stdin",
     "output_type": "stream",
     "text": [
      "Enter Number:  7\n"
     ]
    },
    {
     "name": "stdout",
     "output_type": "stream",
     "text": [
      "7\n",
      "14\n",
      "21\n",
      "28\n",
      "35\n",
      "42\n",
      "49\n",
      "56\n",
      "63\n",
      "70\n"
     ]
    }
   ],
   "source": [
    "# print the multiplication table of  a number which is input by user\n",
    "\n",
    "n = int(input(\"Enter Number: \"))\n",
    "i = 1\n",
    "while i <= 10:\n",
    "    print(n*i)\n",
    "    i += 1"
   ]
  },
  {
   "cell_type": "code",
   "execution_count": 9,
   "id": "7abd42dc-4129-4220-bf0c-656fe04c4dec",
   "metadata": {},
   "outputs": [
    {
     "name": "stdout",
     "output_type": "stream",
     "text": [
      "1\n",
      "4\n",
      "9\n",
      "16\n",
      "25\n",
      "36\n",
      "49\n",
      "64\n",
      "81\n",
      "100\n"
     ]
    }
   ],
   "source": [
    "#Print the elements of the following list using a loop:\n",
    "\n",
    "nums = [1, 4, 9, 16, 25, 36, 49, 64, 81, 100]\n",
    "idx = 0\n",
    "while idx <len(nums):\n",
    "    print(nums[idx])\n",
    "    idx += 1"
   ]
  },
  {
   "cell_type": "code",
   "execution_count": 12,
   "id": "c0539bf0-7a09-4f93-af35-276468ecbef2",
   "metadata": {},
   "outputs": [
    {
     "name": "stdout",
     "output_type": "stream",
     "text": [
      "iron-man 0\n",
      "Ant Man 1\n",
      "Hulk 2\n",
      "Captain America 3\n",
      "Batman 4\n"
     ]
    }
   ],
   "source": [
    "heroes = [\"iron-man\", \"Ant Man\", \"Hulk\", \"Captain America\", \"Batman\"]\n",
    "idx = 0\n",
    "while idx < len(heroes):\n",
    "    print(heroes[idx], idx)\n",
    "    idx += 1"
   ]
  },
  {
   "cell_type": "code",
   "execution_count": 2,
   "id": "48079f10-b862-48b1-8818-68184caf459b",
   "metadata": {},
   "outputs": [
    {
     "name": "stdout",
     "output_type": "stream",
     "text": [
      "Found at idx 5\n",
      "Found at idx 10\n"
     ]
    }
   ],
   "source": [
    "# Search for a number x in this tuple using loop:\n",
    "\n",
    "nums = (1, 4, 9, 16, 25, 36, 49, 64, 81, 100, 36)\n",
    "x = 36\n",
    "i = 0\n",
    "while i < len(nums):\n",
    "    if (nums[i] == x):\n",
    "        print(\"Found at idx\", i)\n",
    "    i += 1"
   ]
  },
  {
   "cell_type": "code",
   "execution_count": 1,
   "id": "9ee2985d-1494-42ac-9633-dd71cfddb26a",
   "metadata": {},
   "outputs": [
    {
     "name": "stdout",
     "output_type": "stream",
     "text": [
      "1\n",
      "2\n",
      "3\n",
      "End of Loop\n"
     ]
    }
   ],
   "source": [
    "# Break and Continue In Loops:\n",
    "\n",
    "i = 1\n",
    "while i <= 5:\n",
    "    print(i)\n",
    "    if(i == 3):\n",
    "        break\n",
    "    i += 1\n",
    "print(\"End of Loop\")"
   ]
  },
  {
   "cell_type": "code",
   "execution_count": 2,
   "id": "14c0b806-60f4-4f0a-834a-2f854a9cdad1",
   "metadata": {},
   "outputs": [
    {
     "name": "stdout",
     "output_type": "stream",
     "text": [
      "1\n",
      "2\n",
      "3\n",
      "End of Loop\n"
     ]
    }
   ],
   "source": [
    "i = 1\n",
    "while i <= 5:\n",
    "    print(i)\n",
    "    if(i == 3):\n",
    "        break\n",
    "    i += 1\n",
    "print(\"End of Loop\")"
   ]
  },
  {
   "cell_type": "code",
   "execution_count": 7,
   "id": "2995e800-ee9e-477b-b507-558e0cd8b8c1",
   "metadata": {},
   "outputs": [
    {
     "name": "stdout",
     "output_type": "stream",
     "text": [
      "Finding...\n",
      "Finding...\n",
      "Finding...\n",
      "Finding...\n",
      "Finding...\n",
      "Found at idx 5\n",
      "End of Loop\n"
     ]
    }
   ],
   "source": [
    "# Search for a number x in this tuple using loop:\n",
    "\n",
    "nums = (1, 4, 9, 16, 25, 36, 49, 64, 81, 100, 36)\n",
    "x = 36\n",
    "i = 0\n",
    "while i < len(nums):\n",
    "    if (nums[i] == x):\n",
    "        print(\"Found at idx\", i)\n",
    "        break\n",
    "    else:\n",
    "        print(\"Finding...\")\n",
    "    i += 1\n",
    "print(\"End of Loop\")"
   ]
  },
  {
   "cell_type": "code",
   "execution_count": 11,
   "id": "9078023d-c6ca-4a67-8e3f-1d5581c20289",
   "metadata": {},
   "outputs": [
    {
     "name": "stdout",
     "output_type": "stream",
     "text": [
      "0\n",
      "1\n",
      "2\n",
      "4\n",
      "5\n"
     ]
    }
   ],
   "source": [
    "#Types of Loops: Continue:\n",
    "\n",
    "i = 0\n",
    "while i <= 5:\n",
    "    if(i == 3):\n",
    "        i += 1\n",
    "        continue\n",
    "    print(i)\n",
    "    i += 1"
   ]
  },
  {
   "cell_type": "code",
   "execution_count": 13,
   "id": "226d3173-6f00-4cff-b122-040f86a48e1d",
   "metadata": {},
   "outputs": [
    {
     "name": "stdout",
     "output_type": "stream",
     "text": [
      "1\n",
      "3\n",
      "5\n",
      "7\n",
      "9\n"
     ]
    }
   ],
   "source": [
    "i = 0\n",
    "while i <= 10:\n",
    "    if(i % 2 == 0):\n",
    "        i += 1\n",
    "        continue\n",
    "    print(i)\n",
    "    i += 1\n",
    "    "
   ]
  },
  {
   "cell_type": "code",
   "execution_count": 14,
   "id": "7aa2ee20-7f23-45b4-856c-3d74eb69da52",
   "metadata": {},
   "outputs": [
    {
     "name": "stdout",
     "output_type": "stream",
     "text": [
      "0\n",
      "2\n",
      "4\n",
      "6\n",
      "8\n",
      "10\n"
     ]
    }
   ],
   "source": [
    "i = 0\n",
    "while i <= 10:\n",
    "    if(i % 2 != 0):\n",
    "        i += 1\n",
    "        continue\n",
    "    print(i)\n",
    "    i += 1\n",
    "    "
   ]
  },
  {
   "cell_type": "code",
   "execution_count": 16,
   "id": "6342460c-2588-42dc-970d-371d6b0c4fd0",
   "metadata": {},
   "outputs": [
    {
     "name": "stdout",
     "output_type": "stream",
     "text": [
      "1\n",
      "4\n",
      "9\n",
      "16\n",
      "25\n",
      "36\n",
      "49\n",
      "64\n",
      "81\n",
      "100\n"
     ]
    }
   ],
   "source": [
    "#For Loops are used for sequential traversal. For traversing list, string, tuples etc.\n",
    "\n",
    "# for Loops  for el in list:  # Some work  \n",
    "# list = [1, 2, 3]\n",
    "#for el in list:\n",
    " #   print(el)\n",
    "\n",
    "# Lets Practice: Print the elements of the following list using a  loop:\n",
    "\n",
    "nums = [1, 4, 9, 16, 25, 36, 49, 64, 81, 100]\n",
    "\n",
    "for el in nums:\n",
    "    print(el)\n",
    "    "
   ]
  },
  {
   "cell_type": "code",
   "execution_count": 17,
   "id": "bb53e42f-3553-46e2-899c-c0179e75826a",
   "metadata": {},
   "outputs": [
    {
     "name": "stdout",
     "output_type": "stream",
     "text": [
      "Number Found at idx 6\n",
      "Number Found at idx 10\n"
     ]
    }
   ],
   "source": [
    "#Search for a number x in this tuple\n",
    "\n",
    "\n",
    "nums = [1, 4, 9, 16, 25, 36, 49, 64, 81, 100, 49]\n",
    "\n",
    "x = 49\n",
    "idx = 0\n",
    "\n",
    "for el in nums:\n",
    "    if(el == x):\n",
    "        print(\"Number Found at idx\", idx)\n",
    "    idx += 1"
   ]
  },
  {
   "cell_type": "code",
   "execution_count": 19,
   "id": "e6b178d9-f353-47db-ac0b-558ae8a9bcc4",
   "metadata": {},
   "outputs": [
    {
     "name": "stdout",
     "output_type": "stream",
     "text": [
      "Number Found at idx 6\n"
     ]
    }
   ],
   "source": [
    "nums = (1, 4, 9, 16, 25, 36, 49, 64, 81, 100, 49)\n",
    "\n",
    "x = 49\n",
    "idx = 0\n",
    "\n",
    "for el in nums:\n",
    "    if(el == x):\n",
    "        print(\"Number Found at idx\", idx)\n",
    "        break\n",
    "    idx += 1"
   ]
  },
  {
   "cell_type": "code",
   "execution_count": 30,
   "id": "afbf1b61-ac04-4891-8726-090fb0537511",
   "metadata": {},
   "outputs": [
    {
     "name": "stdout",
     "output_type": "stream",
     "text": [
      "0\n",
      "1\n",
      "2\n",
      "3\n",
      "4\n",
      "5\n",
      "6\n",
      "7\n",
      "8\n",
      "9\n"
     ]
    }
   ],
   "source": [
    "# Range Function():\n",
    "# Range fucntions returns a sequence of numbers, starting from 0 by default, and increments bu 1(be default), and stops before a specified number.\n",
    "\n",
    "#range(start?, Stop, Step?)\n",
    "\n",
    "#for el in range(5):\n",
    " #   print(el)\n",
    "#for el in range(1,5):\n",
    " #   print(el)\n",
    "#for el in range(1,5, 2):\n",
    " #   print(el)\n",
    "\n",
    "seq = range(10)   #range(stop)\n",
    "for i in range(10):\n",
    "    print(i)\n"
   ]
  },
  {
   "cell_type": "code",
   "execution_count": 31,
   "id": "fcad735f-3207-407e-bdb1-899cdef94db4",
   "metadata": {},
   "outputs": [
    {
     "name": "stdout",
     "output_type": "stream",
     "text": [
      "2\n",
      "3\n",
      "4\n",
      "5\n",
      "6\n",
      "7\n",
      "8\n",
      "9\n"
     ]
    }
   ],
   "source": [
    "seq = range(2, 10)   #range(start, stop)\n",
    "for i in range(2, 10):\n",
    "    print(i)\n",
    "\n"
   ]
  },
  {
   "cell_type": "code",
   "execution_count": 32,
   "id": "fa468dda-9785-4954-9cf2-2fd4e336751c",
   "metadata": {},
   "outputs": [
    {
     "name": "stdout",
     "output_type": "stream",
     "text": [
      "2\n",
      "4\n",
      "6\n",
      "8\n"
     ]
    }
   ],
   "source": [
    "seq = range(2, 10)   #range(start, stop, step)\n",
    "for i in range(2, 10,2):\n",
    "    print(i)"
   ]
  },
  {
   "cell_type": "code",
   "execution_count": 35,
   "id": "c3ac0702-039e-46d9-a674-7dd501e87cbc",
   "metadata": {},
   "outputs": [
    {
     "name": "stdout",
     "output_type": "stream",
     "text": [
      "2\n",
      "4\n",
      "6\n",
      "8\n",
      "10\n"
     ]
    }
   ],
   "source": [
    "seq = range(2, 11)   #range(start, stop, step)\n",
    "for i in range(2, 11,2):\n",
    "    print(i)"
   ]
  },
  {
   "cell_type": "code",
   "execution_count": 36,
   "id": "adc48d6d-5f2f-4993-a276-1fb1c9c3e05e",
   "metadata": {},
   "outputs": [
    {
     "name": "stdout",
     "output_type": "stream",
     "text": [
      "1\n",
      "2\n",
      "3\n",
      "4\n",
      "5\n",
      "6\n",
      "7\n",
      "8\n",
      "9\n",
      "10\n",
      "11\n",
      "12\n",
      "13\n",
      "14\n",
      "15\n",
      "16\n",
      "17\n",
      "18\n",
      "19\n",
      "20\n",
      "21\n",
      "22\n",
      "23\n",
      "24\n",
      "25\n",
      "26\n",
      "27\n",
      "28\n",
      "29\n",
      "30\n",
      "31\n",
      "32\n",
      "33\n",
      "34\n",
      "35\n",
      "36\n",
      "37\n",
      "38\n",
      "39\n",
      "40\n",
      "41\n",
      "42\n",
      "43\n",
      "44\n",
      "45\n",
      "46\n",
      "47\n",
      "48\n",
      "49\n",
      "50\n",
      "51\n",
      "52\n",
      "53\n",
      "54\n",
      "55\n",
      "56\n",
      "57\n",
      "58\n",
      "59\n",
      "60\n",
      "61\n",
      "62\n",
      "63\n",
      "64\n",
      "65\n",
      "66\n",
      "67\n",
      "68\n",
      "69\n",
      "70\n",
      "71\n",
      "72\n",
      "73\n",
      "74\n",
      "75\n",
      "76\n",
      "77\n",
      "78\n",
      "79\n",
      "80\n",
      "81\n",
      "82\n",
      "83\n",
      "84\n",
      "85\n",
      "86\n",
      "87\n",
      "88\n",
      "89\n",
      "90\n",
      "91\n",
      "92\n",
      "93\n",
      "94\n",
      "95\n",
      "96\n",
      "97\n",
      "98\n",
      "99\n",
      "100\n"
     ]
    }
   ],
   "source": [
    "# Lets practice: Print 1 to 100 using range\n",
    "\n",
    "for i in range(1, 101):\n",
    "    print(i)"
   ]
  },
  {
   "cell_type": "code",
   "execution_count": 37,
   "id": "08b4368b-3415-433f-909b-76db1582f4a0",
   "metadata": {},
   "outputs": [
    {
     "name": "stdout",
     "output_type": "stream",
     "text": [
      "100\n",
      "99\n",
      "98\n",
      "97\n",
      "96\n",
      "95\n",
      "94\n",
      "93\n",
      "92\n",
      "91\n",
      "90\n",
      "89\n",
      "88\n",
      "87\n",
      "86\n",
      "85\n",
      "84\n",
      "83\n",
      "82\n",
      "81\n",
      "80\n",
      "79\n",
      "78\n",
      "77\n",
      "76\n",
      "75\n",
      "74\n",
      "73\n",
      "72\n",
      "71\n",
      "70\n",
      "69\n",
      "68\n",
      "67\n",
      "66\n",
      "65\n",
      "64\n",
      "63\n",
      "62\n",
      "61\n",
      "60\n",
      "59\n",
      "58\n",
      "57\n",
      "56\n",
      "55\n",
      "54\n",
      "53\n",
      "52\n",
      "51\n",
      "50\n",
      "49\n",
      "48\n",
      "47\n",
      "46\n",
      "45\n",
      "44\n",
      "43\n",
      "42\n",
      "41\n",
      "40\n",
      "39\n",
      "38\n",
      "37\n",
      "36\n",
      "35\n",
      "34\n",
      "33\n",
      "32\n",
      "31\n",
      "30\n",
      "29\n",
      "28\n",
      "27\n",
      "26\n",
      "25\n",
      "24\n",
      "23\n",
      "22\n",
      "21\n",
      "20\n",
      "19\n",
      "18\n",
      "17\n",
      "16\n",
      "15\n",
      "14\n",
      "13\n",
      "12\n",
      "11\n",
      "10\n",
      "9\n",
      "8\n",
      "7\n",
      "6\n",
      "5\n",
      "4\n",
      "3\n",
      "2\n",
      "1\n"
     ]
    }
   ],
   "source": [
    "for i in range(100, 0, -1):\n",
    "    print(i)"
   ]
  },
  {
   "cell_type": "code",
   "execution_count": 40,
   "id": "7584b341-b153-4203-b00c-2384cc232512",
   "metadata": {},
   "outputs": [
    {
     "name": "stdin",
     "output_type": "stream",
     "text": [
      "Enter the Number:  12\n"
     ]
    },
    {
     "name": "stdout",
     "output_type": "stream",
     "text": [
      "12\n",
      "24\n",
      "36\n",
      "48\n",
      "60\n",
      "72\n",
      "84\n",
      "96\n",
      "108\n",
      "120\n"
     ]
    }
   ],
   "source": [
    "# PRint the multiplication table by 10\n",
    "\n",
    "n = int(input(\"Enter the Number: \"))\n",
    "\n",
    "for i in range(1, 11):\n",
    "    print(n * i)\n"
   ]
  },
  {
   "cell_type": "code",
   "execution_count": 42,
   "id": "3b6e1707-0c20-4ddd-9226-acc29b913947",
   "metadata": {},
   "outputs": [
    {
     "name": "stdout",
     "output_type": "stream",
     "text": [
      "some usefull work\n"
     ]
    }
   ],
   "source": [
    "#PASS Statement; pass is a null statement that does. it is used a placeholder for a future code.\n",
    "\n",
    "#for el in range(10):\n",
    " #   pass\n",
    "\n",
    "\n",
    "\n",
    "for i in range(5):\n",
    "    pass#empty\n",
    "\n",
    "print(\"some usefull work\")"
   ]
  },
  {
   "cell_type": "code",
   "execution_count": 43,
   "id": "12de3bf6-dffc-4f4d-99fc-d12821f2fce0",
   "metadata": {},
   "outputs": [
    {
     "name": "stdout",
     "output_type": "stream",
     "text": [
      "some usefull work\n"
     ]
    }
   ],
   "source": [
    "for i in range(5):\n",
    "    pass#empty\n",
    "if i > 5:\n",
    "    pass\n",
    "    \n",
    "print(\"some usefull work\")"
   ]
  },
  {
   "cell_type": "code",
   "execution_count": 6,
   "id": "b9c26a96-7105-4b06-936a-25ecf390f9eb",
   "metadata": {},
   "outputs": [
    {
     "name": "stdin",
     "output_type": "stream",
     "text": [
      "Enter the number:  100\n"
     ]
    },
    {
     "name": "stdout",
     "output_type": "stream",
     "text": [
      "total sum = 5050\n"
     ]
    }
   ],
   "source": [
    "#WAP to find the sum of the  first n numbers. (using while)\n",
    "\n",
    "\n",
    "\n",
    "n = int(input(\"Enter the number: \"))\n",
    "sum = 0\n",
    "i = 1\n",
    "while i <= n:\n",
    "    sum += i\n",
    "    i += 1\n",
    "print(\"total sum =\", sum)"
   ]
  },
  {
   "cell_type": "code",
   "execution_count": 5,
   "id": "8b21635c-6b53-4045-a425-f74b5f133755",
   "metadata": {},
   "outputs": [
    {
     "name": "stdout",
     "output_type": "stream",
     "text": [
      "total sum = 15\n"
     ]
    }
   ],
   "source": [
    "n = 5\n",
    "sum = 0\n",
    "for i in range(1, n + 1):\n",
    "    sum += i\n",
    "print(\"total sum =\", sum)\n"
   ]
  },
  {
   "cell_type": "code",
   "execution_count": 12,
   "id": "74bbaf6e-6620-4e3b-8d2d-bfd104ebf134",
   "metadata": {},
   "outputs": [
    {
     "name": "stdout",
     "output_type": "stream",
     "text": [
      "factorial is = 120\n"
     ]
    }
   ],
   "source": [
    "#WAP to find the factorial of first n numbers. (using for)\n",
    "\n",
    "n = 5\n",
    "\n",
    "\n",
    "fact = 1\n",
    "for i in range(1, n + 1):\n",
    "    fact *= i\n",
    "print(\"factorial is =\", fact)\n"
   ]
  },
  {
   "cell_type": "code",
   "execution_count": null,
   "id": "d22a798f-5455-4b03-98e9-d3d0f8d27e05",
   "metadata": {},
   "outputs": [],
   "source": []
  }
 ],
 "metadata": {
  "kernelspec": {
   "display_name": "Python 3 (ipykernel)",
   "language": "python",
   "name": "python3"
  },
  "language_info": {
   "codemirror_mode": {
    "name": "ipython",
    "version": 3
   },
   "file_extension": ".py",
   "mimetype": "text/x-python",
   "name": "python",
   "nbconvert_exporter": "python",
   "pygments_lexer": "ipython3",
   "version": "3.13.5"
  },
  "panel-cell-order": [
   "bac1bb70-c9d8-4fbc-a17b-54868ca2cc5a"
  ]
 },
 "nbformat": 4,
 "nbformat_minor": 5
}
