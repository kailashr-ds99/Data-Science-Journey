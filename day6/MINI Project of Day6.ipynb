{
 "cells": [
  {
   "cell_type": "code",
   "execution_count": 3,
   "id": "b97cf0c8-f861-4cbc-b109-6722670e79f5",
   "metadata": {},
   "outputs": [
    {
     "name": "stdout",
     "output_type": "stream",
     "text": [
      "=== Welcome to Kailash's Bank ATM ===\n",
      "\n",
      "Choose and option:\n",
      "1. Deposit\n",
      "2. Withdraw\n",
      "3. Check Balance\n",
      "4. Exit\n"
     ]
    },
    {
     "name": "stdin",
     "output_type": "stream",
     "text": [
      "Enter Option 1/2/3/4:  1\n",
      "Enter the amount to deposit:  100\n"
     ]
    },
    {
     "name": "stdout",
     "output_type": "stream",
     "text": [
      "✅ Deposited 100.00. New Balance: 100.00\n",
      "\n",
      "Choose and option:\n",
      "1. Deposit\n",
      "2. Withdraw\n",
      "3. Check Balance\n",
      "4. Exit\n"
     ]
    },
    {
     "name": "stdin",
     "output_type": "stream",
     "text": [
      "Enter Option 1/2/3/4:  3\n"
     ]
    },
    {
     "name": "stdout",
     "output_type": "stream",
     "text": [
      "💰 Current balance: 100.00\n",
      "\n",
      "Choose and option:\n",
      "1. Deposit\n",
      "2. Withdraw\n",
      "3. Check Balance\n",
      "4. Exit\n"
     ]
    },
    {
     "name": "stdin",
     "output_type": "stream",
     "text": [
      "Enter Option 1/2/3/4:  1\n",
      "Enter the amount to deposit:  500\n"
     ]
    },
    {
     "name": "stdout",
     "output_type": "stream",
     "text": [
      "✅ Deposited 500.00. New Balance: 600.00\n",
      "\n",
      "Choose and option:\n",
      "1. Deposit\n",
      "2. Withdraw\n",
      "3. Check Balance\n",
      "4. Exit\n"
     ]
    },
    {
     "name": "stdin",
     "output_type": "stream",
     "text": [
      "Enter Option 1/2/3/4:  2\n",
      "Enter amount to withdraw:  400\n"
     ]
    },
    {
     "name": "stdout",
     "output_type": "stream",
     "text": [
      "✅ Withdrew 400.00. New balance: 200.00\n",
      "\n",
      "Choose and option:\n",
      "1. Deposit\n",
      "2. Withdraw\n",
      "3. Check Balance\n",
      "4. Exit\n"
     ]
    },
    {
     "name": "stdin",
     "output_type": "stream",
     "text": [
      "Enter Option 1/2/3/4:  3\n"
     ]
    },
    {
     "name": "stdout",
     "output_type": "stream",
     "text": [
      "💰 Current balance: 200.00\n",
      "\n",
      "Choose and option:\n",
      "1. Deposit\n",
      "2. Withdraw\n",
      "3. Check Balance\n",
      "4. Exit\n"
     ]
    },
    {
     "name": "stdin",
     "output_type": "stream",
     "text": [
      "Enter Option 1/2/3/4:  2\n",
      "Enter amount to withdraw:  500\n"
     ]
    },
    {
     "name": "stdout",
     "output_type": "stream",
     "text": [
      "❌ Insufficient funds. Available: 200.00\n",
      "\n",
      "Choose and option:\n",
      "1. Deposit\n",
      "2. Withdraw\n",
      "3. Check Balance\n",
      "4. Exit\n"
     ]
    },
    {
     "name": "stdin",
     "output_type": "stream",
     "text": [
      "Enter Option 1/2/3/4:  4\n"
     ]
    },
    {
     "name": "stdout",
     "output_type": "stream",
     "text": [
      "👋 Thank you for using Kailash's Bank ATM. Goodbye!\n"
     ]
    }
   ],
   "source": [
    "print(\"=== Welcome to Kailash's Bank ATM ===\")\n",
    "\n",
    "balance = 0.0\n",
    "\n",
    "while True:\n",
    "    print(\"\\nChoose and option:\")\n",
    "    print(\"1. Deposit\")\n",
    "    print(\"2. Withdraw\")\n",
    "    print(\"3. Check Balance\")\n",
    "    print(\"4. Exit\")\n",
    "\n",
    "    choice = input(\"Enter Option 1/2/3/4: \").strip()\n",
    "\n",
    "    if choice == \"1\":\n",
    "        amount_str = input(\"Enter the amount to deposit: \").strip()\n",
    "        try:\n",
    "            amount = float(amount_str)\n",
    "            if amount <= 0:\n",
    "                print(\"⚠️ Amount must be positive.\")\n",
    "            else:\n",
    "                balance += amount\n",
    "                print(f\"✅ Deposited {amount:.2f}. New Balance: {balance:.2f}\")\n",
    "        except ValueError:\n",
    "            print(\"❌ Invaid amount. Please enter a number\")\n",
    "    elif choice == \"2\":\n",
    "        amount_str = input(\"Enter amount to withdraw: \").strip()\n",
    "        try:\n",
    "            amount = float(amount_str)\n",
    "            if amount <= 0:\n",
    "                print(\"⚠️ Amount must be positive.\")\n",
    "            elif amount > balance:\n",
    "                print(f\"❌ Insufficient funds. Available: {balance:.2f}\")\n",
    "            else:\n",
    "                balance -= amount\n",
    "                print(f\"✅ Withdrew {amount:.2f}. New balance: {balance:.2f}\")\n",
    "        except ValueError:\n",
    "            print(\"❌ Invalid amount. Please enter a number.\")\n",
    "\n",
    "    elif choice == \"3\":\n",
    "        print(f\"💰 Current balance: {balance:.2f}\")\n",
    "\n",
    "    elif choice == \"4\":\n",
    "        print(\"👋 Thank you for using Kailash's Bank ATM. Goodbye!\")\n",
    "        break\n",
    "\n",
    "    else:\n",
    "        print(\"❌ Invalid option. Choose 1, 2, 3, or 4.\")"
   ]
  },
  {
   "cell_type": "code",
   "execution_count": null,
   "id": "c2fdacb7-ffb8-418a-9299-575b74abb6ac",
   "metadata": {},
   "outputs": [],
   "source": []
  }
 ],
 "metadata": {
  "kernelspec": {
   "display_name": "Python 3 (ipykernel)",
   "language": "python",
   "name": "python3"
  },
  "language_info": {
   "codemirror_mode": {
    "name": "ipython",
    "version": 3
   },
   "file_extension": ".py",
   "mimetype": "text/x-python",
   "name": "python",
   "nbconvert_exporter": "python",
   "pygments_lexer": "ipython3",
   "version": "3.13.5"
  }
 },
 "nbformat": 4,
 "nbformat_minor": 5
}
