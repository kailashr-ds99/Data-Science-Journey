{
 "cells": [
  {
   "cell_type": "code",
   "execution_count": 1,
   "id": "da6ceacb-5d2b-4e27-9e49-72bc5ab15952",
   "metadata": {},
   "outputs": [
    {
     "name": "stdout",
     "output_type": "stream",
     "text": [
      "sum of squares: 385\n"
     ]
    }
   ],
   "source": [
    "# Example: sum of squares of numbers from 1 to 10\n",
    "total = 0\n",
    "for i in range(1, 11):\n",
    "    total += i**2\n",
    "print(\"sum of squares:\", total)"
   ]
  },
  {
   "cell_type": "code",
   "execution_count": 2,
   "id": "f762a260-52f2-495f-a787-a59f895f5704",
   "metadata": {},
   "outputs": [
    {
     "name": "stdout",
     "output_type": "stream",
     "text": [
      "sorted: [1, 2, 5, 8, 9]\n"
     ]
    }
   ],
   "source": [
    "#Advanced list operations\n",
    "numbers = [5, 8, 2, 9, 1]\n",
    "#sort ascending\n",
    "numbers.sort()\n",
    "print(\"sorted:\", numbers)"
   ]
  },
  {
   "cell_type": "code",
   "execution_count": 5,
   "id": "504c5310-8afb-4cf0-bc01-0b6ab44e87a4",
   "metadata": {},
   "outputs": [
    {
     "name": "stdout",
     "output_type": "stream",
     "text": [
      "Reversed: [1, 9, 2, 8, 5]\n"
     ]
    }
   ],
   "source": [
    "#reverse list\n",
    "numbers = [5, 8, 2, 9, 1]\n",
    "numbers.reverse()\n",
    "print(\"Reversed:\", numbers)"
   ]
  },
  {
   "cell_type": "code",
   "execution_count": 10,
   "id": "8cab66ec-ac59-477e-b5dc-29ab9adc5e5b",
   "metadata": {},
   "outputs": [
    {
     "name": "stdout",
     "output_type": "stream",
     "text": [
      "squares: [25, 64, 4, 81, 1]\n"
     ]
    }
   ],
   "source": [
    "# List comprehension: squares\n",
    "numbers = [5, 8, 2, 9, 1]\n",
    "squares = [num ** 2 for num in numbers]\n",
    "print(\"squares:\", squares)"
   ]
  },
  {
   "cell_type": "code",
   "execution_count": 12,
   "id": "fe47d4af-a1ac-4dcf-8e7c-b93d3f90d00a",
   "metadata": {},
   "outputs": [
    {
     "name": "stdout",
     "output_type": "stream",
     "text": [
      "True\n",
      "False\n"
     ]
    }
   ],
   "source": [
    "#functions to check if number is even\n",
    "def is_even(n):\n",
    "    return n % 2 == 0\n",
    "print(is_even(4))    #True\n",
    "print(is_even(7))    #False"
   ]
  },
  {
   "cell_type": "code",
   "execution_count": 20,
   "id": "31d5d819-3908-4083-b53a-e4d4709af638",
   "metadata": {},
   "outputs": [
    {
     "name": "stdout",
     "output_type": "stream",
     "text": [
      "This is a string.\n",
      "We are creating in python.\n"
     ]
    }
   ],
   "source": [
    "str = \"This is a string.\\nWe are creating in python.\"\n",
    "print(str)"
   ]
  },
  {
   "cell_type": "code",
   "execution_count": 19,
   "id": "f0ed34aa-0b87-44de-9395-3f31b8851282",
   "metadata": {},
   "outputs": [
    {
     "name": "stdout",
     "output_type": "stream",
     "text": [
      "This is a string.\tWe are creating in python.\n"
     ]
    }
   ],
   "source": [
    "str = \"This is a string.\\tWe are creating in python.\"\n",
    "print(str)"
   ]
  },
  {
   "cell_type": "code",
   "execution_count": 24,
   "id": "63ff4193-6636-4030-9aae-ab0a87ccde09",
   "metadata": {},
   "outputs": [
    {
     "name": "stdout",
     "output_type": "stream",
     "text": [
      "I love Python\n"
     ]
    }
   ],
   "source": [
    "#Concatenate strings\n",
    "str1 = \"I love\"\n",
    "str2 = \"Python\"\n",
    "print(str1 + \" \" + str2)"
   ]
  },
  {
   "cell_type": "code",
   "execution_count": 42,
   "id": "0f2bd2f5-1f16-4bee-99e1-53af6983bddf",
   "metadata": {},
   "outputs": [
    {
     "name": "stdout",
     "output_type": "stream",
     "text": [
      "4\n",
      "6\n",
      "11\n"
     ]
    }
   ],
   "source": [
    "#indexing\n",
    "str1 = \"Love\"\n",
    "len1 = len(str1)\n",
    "print(len1)\n",
    "\n",
    "str2 = \"Python\"\n",
    "len2 = len(str2)\n",
    "print(len2)\n",
    "\n",
    "final_str = str1+ \" \" + str2\n",
    "print(len(final_str))"
   ]
  },
  {
   "cell_type": "code",
   "execution_count": 43,
   "id": "c83019ea-c296-4b32-a7c1-cc16f5738f29",
   "metadata": {},
   "outputs": [
    {
     "name": "stdout",
     "output_type": "stream",
     "text": [
      "L\n"
     ]
    }
   ],
   "source": [
    "str = \"LOVE PYTHON\"\n",
    "ch = str[0]\n",
    "print(ch)"
   ]
  },
  {
   "cell_type": "code",
   "execution_count": 45,
   "id": "d6a3c4fb-718a-4202-9035-269c3adb52d1",
   "metadata": {},
   "outputs": [
    {
     "name": "stdout",
     "output_type": "stream",
     "text": [
      "P\n"
     ]
    }
   ],
   "source": [
    "str = \"LOVE PYTHON\"\n",
    "ch = str[5]\n",
    "print(ch)"
   ]
  },
  {
   "cell_type": "code",
   "execution_count": 56,
   "id": "91cdbbd8-4777-4854-bea9-2f8df4b41027",
   "metadata": {},
   "outputs": [
    {
     "name": "stdout",
     "output_type": "stream",
     "text": [
      "ove\n",
      "ve Python\n",
      "Love \n",
      "Python\n"
     ]
    }
   ],
   "source": [
    "#slicing\n",
    "#str[ starting_idx : ending_idx]  ending idx is not included\n",
    "str = \"Love Python\"\n",
    "print(str[1:4])\n",
    "print(str[2: ])\n",
    "print(str[ :5])\n",
    "print(str[5:len(str)])"
   ]
  },
  {
   "cell_type": "code",
   "execution_count": 58,
   "id": "f3a19002-f477-481e-9334-1e2e3632f7bd",
   "metadata": {},
   "outputs": [
    {
     "name": "stdout",
     "output_type": "stream",
     "text": [
      "pl\n"
     ]
    }
   ],
   "source": [
    "str = \"Apple\"\n",
    "print(str[-3:-1])\n"
   ]
  },
  {
   "cell_type": "code",
   "execution_count": 59,
   "id": "0ed0bf1a-20f0-4799-a3cd-631e1d7b215e",
   "metadata": {},
   "outputs": [
    {
     "name": "stdout",
     "output_type": "stream",
     "text": [
      "A\n",
      "e\n",
      "ppl\n",
      "pl\n"
     ]
    }
   ],
   "source": [
    "name = \"Apple\"\n",
    "print(name[0])      # 'A' → First character\n",
    "print(name[-1])     # 'e' → Last character\n",
    "print(name[1:4])    # 'ppl' → Slice from index 1 to 3\n",
    "print(name[-3:-1])  # 'pl' → Slice from 3rd-last to 2nd-last"
   ]
  },
  {
   "cell_type": "code",
   "execution_count": 60,
   "id": "9a10e764-b639-4a35-9633-12d63bdfb33e",
   "metadata": {},
   "outputs": [
    {
     "name": "stdout",
     "output_type": "stream",
     "text": [
      "Hello\n"
     ]
    },
    {
     "data": {
      "text/plain": [
       "range(0, 5)"
      ]
     },
     "execution_count": 60,
     "metadata": {},
     "output_type": "execute_result"
    }
   ],
   "source": [
    "print(\"Hello\")      # Calling the print() function\n",
    "len(\"Apple\")        # Calling a function named len\n",
    "name.upper()        # Calling the method .upper() on a string\n",
    "range(5)            # Calling range() to generate numbers\n"
   ]
  },
  {
   "cell_type": "code",
   "execution_count": 70,
   "id": "7186b444-be6f-492b-870e-023d77275e4b",
   "metadata": {},
   "outputs": [
    {
     "name": "stdout",
     "output_type": "stream",
     "text": [
      "False\n",
      "I am studying python from chatgpt\n",
      "i am szudying Pyzhon from ChazGPT\n",
      "18\n",
      "21\n",
      "-1\n",
      "2\n"
     ]
    }
   ],
   "source": [
    "#String Functions\n",
    "#1. str.endswith(\"er.\") returns true if string ends with substring\n",
    "\n",
    "str =\"i am studying Python from ChatGPT\"\n",
    "print(str.endswith(\"gpt\"))\n",
    "\n",
    "#2. str.capitalize() Capitalizes first Character of the string\n",
    "print(str.capitalize())\n",
    "\n",
    "\n",
    "#3. str.replace(old, new)       replaces all occurences of old\n",
    "print(str.replace(\"t\",\"z\"))\n",
    "\n",
    "#4.  str.find(word)    returns 1st index of 1st occurer\n",
    "print(str.find(\"o\"))\n",
    "print(str.find(\"from\"))\n",
    "print(str.find(\"6\"))\n",
    "\n",
    "#5.  str.count(\"am\")   counts the occurence of substr\n",
    "print(str.count(\"o\"))"
   ]
  },
  {
   "cell_type": "code",
   "execution_count": 80,
   "id": "c3a556d8-f123-440a-8c62-81f00b23db93",
   "metadata": {},
   "outputs": [
    {
     "name": "stdin",
     "output_type": "stream",
     "text": [
      "Enter your Name:  Kailash\n"
     ]
    },
    {
     "name": "stdout",
     "output_type": "stream",
     "text": [
      "Lenght of you Name is = 7\n",
      "3\n"
     ]
    }
   ],
   "source": [
    "#WAP to input user's first anme & print its lenght. #WAP to find the occurence of '$' in a string.\n",
    "first_name = input(\"Enter your Name: \") #Input first Name\n",
    "print(\"Lenght of you Name is =\", len(first_name))\n",
    "\n",
    "\n",
    "str = \"Hi am$ the $ sign of $\"\n",
    "print(str.count(\"$\"))\n"
   ]
  },
  {
   "cell_type": "code",
   "execution_count": 95,
   "id": "33f97f0f-be5d-49f1-8479-042e01a1f797",
   "metadata": {},
   "outputs": [
    {
     "name": "stdout",
     "output_type": "stream",
     "text": [
      "can vote & apply for license\n",
      "can drive\n",
      "GO\n"
     ]
    }
   ],
   "source": [
    "# Conditonal Statements 1. if-elif-else(SYNTAX)\n",
    "#if(condition):\n",
    "    #statement1\n",
    "#elif(condition): else if\n",
    "    #statement2\n",
    "#else:\n",
    "    #statementN\n",
    "age = 18\n",
    "if(age >= 18):\n",
    "    print(\"can vote & apply for license\")\n",
    "    print(\"can drive\")\n",
    "elif(age <= 18):\n",
    "    print(\"cannot vote nor apply for license\")\n",
    "    print(\"cannot drive\")\n",
    "    \n",
    "\n",
    "\n",
    "light = \"green\"\n",
    "if(light == \"red\"):\n",
    "    print(\"STOP\")\n",
    "elif(light == \"green\"):\n",
    "    print(\"GO\")\n",
    "elif(light == \"Yellow\"):\n",
    "    print(\"LOOK\")\n",
    "else:\n",
    "    print(\"Light is broken\")\n",
    "\n"
   ]
  },
  {
   "cell_type": "code",
   "execution_count": 117,
   "id": "738dd33f-b55b-4ae2-897e-b83308d78de7",
   "metadata": {},
   "outputs": [
    {
     "name": "stdin",
     "output_type": "stream",
     "text": [
      "Enter your Marks:  69\n"
     ]
    },
    {
     "name": "stdout",
     "output_type": "stream",
     "text": [
      "Grade of the Student = D\n"
     ]
    }
   ],
   "source": [
    "#Conditional Statements:\n",
    "#1. Grade students based on their marks\n",
    "#marks>=90, Grade = \"A\", 90 > marks >= 80, Grade = \"B\", 80 > marks >= 70, Grade = \"C\", 70 > marks, Grade = \"D \"\n",
    "\n",
    "marks = int(input(\"Enter your Marks: \"))\n",
    "\n",
    "if(marks >= 90):\n",
    "    grade = \"A\"\n",
    "elif(marks >= 80 and marks < 90):\n",
    "    grade = \"B\"\n",
    "elif(marks >= 70 and marks < 80):\n",
    "    grade = \"C\"\n",
    "else:\n",
    "    grade = \"D\"\n",
    "\n",
    "print(\"Grade of the Student =\", grade)"
   ]
  },
  {
   "cell_type": "code",
   "execution_count": 110,
   "id": "48b5f888-99ed-4b2f-81ec-741049dc84f0",
   "metadata": {},
   "outputs": [
    {
     "name": "stdout",
     "output_type": "stream",
     "text": [
      "Grade of the Student = B\n"
     ]
    }
   ],
   "source": [
    "marks = 81\n",
    "\n",
    "if(marks >= 90):\n",
    "    grade = \"A\"\n",
    "elif(marks >= 80 and marks < 90):\n",
    "    grade = \"B\"\n",
    "elif(marks >= 70 and marks < 80):\n",
    "    grade = \"C\"\n",
    "else:\n",
    "    grade = \"D\"\n",
    "print(\"Grade of the Student =\", grade)"
   ]
  },
  {
   "cell_type": "code",
   "execution_count": 119,
   "id": "db1f6cc6-7cc3-44d0-be7c-a9b7beeb3232",
   "metadata": {},
   "outputs": [
    {
     "name": "stdin",
     "output_type": "stream",
     "text": [
      "Enter your Marks:   99\n"
     ]
    },
    {
     "name": "stdout",
     "output_type": "stream",
     "text": [
      "Grade = A\n"
     ]
    }
   ],
   "source": [
    "marks = \"81\"  # string input\n",
    "\n",
    "# Convert marks to integer for numeric comparison\n",
    "marks = int(input(\"Enter your Marks:  \"))\n",
    "\n",
    "if marks >= 90:\n",
    "    grade = \"A\"\n",
    "elif marks >= 80 and marks < 90:\n",
    "    grade = \"B\"\n",
    "elif marks >= 70 and marks < 80:\n",
    "    grade = \"C\"\n",
    "else:\n",
    "    grade = \"D\"\n",
    "\n",
    "print(\"Grade =\", grade)\n"
   ]
  },
  {
   "cell_type": "code",
   "execution_count": 125,
   "id": "d7155670-d9c1-47ef-9878-ef0e3d543e28",
   "metadata": {},
   "outputs": [],
   "source": [
    "#NESTING if inside an if statement.\n",
    "age = 15\n",
    "if(age >= 18):\n",
    "    if(age <= 65):\n",
    "        print(\"can drive\")\n",
    "    else:\n",
    "        print(\"cannot drive\")\n",
    "    "
   ]
  },
  {
   "cell_type": "code",
   "execution_count": 147,
   "id": "c203eeaa-826b-42bf-8728-cb16f2c3ae0c",
   "metadata": {
    "scrolled": true
   },
   "outputs": [
    {
     "name": "stdin",
     "output_type": "stream",
     "text": [
      "Your Age =  18\n"
     ]
    },
    {
     "name": "stdout",
     "output_type": "stream",
     "text": [
      "can drive\n"
     ]
    }
   ],
   "source": [
    "age = int(input(\"Your Age = \"))\n",
    "\n",
    "if(age >= 18):\n",
    "    if(age >= 65):\n",
    "        print(\"cannot drive\")\n",
    "    else:\n",
    "        print(\"can drive\")\n",
    "else:\n",
    "    print(\"cannot drive\")\n"
   ]
  },
  {
   "cell_type": "code",
   "execution_count": null,
   "id": "8f8312f8-4586-4bd4-be42-5384adeca36a",
   "metadata": {},
   "outputs": [],
   "source": []
  }
 ],
 "metadata": {
  "kernelspec": {
   "display_name": "Python 3 (ipykernel)",
   "language": "python",
   "name": "python3"
  },
  "language_info": {
   "codemirror_mode": {
    "name": "ipython",
    "version": 3
   },
   "file_extension": ".py",
   "mimetype": "text/x-python",
   "name": "python",
   "nbconvert_exporter": "python",
   "pygments_lexer": "ipython3",
   "version": "3.13.5"
  }
 },
 "nbformat": 4,
 "nbformat_minor": 5
}
